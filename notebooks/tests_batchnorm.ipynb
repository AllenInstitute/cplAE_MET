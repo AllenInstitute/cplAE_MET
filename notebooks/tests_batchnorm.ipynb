{
 "cells": [
  {
   "cell_type": "code",
   "execution_count": 7,
   "metadata": {},
   "outputs": [
    {
     "data": {
      "image/png": "[encoded data removed]",
      "text/plain": [
       "<Figure size 576x288 with 2 Axes>"
      ]
     },
     "metadata": {
      "needs_background": "light"
     },
     "output_type": "display_data"
    }
   ],
   "source": [
    "import torch\n",
    "import numpy as np\n",
    "from matplotlib import pyplot as plt\n",
    "f, ax = plt.subplots(1,2,figsize = (8,4))\n",
    "\n",
    "bn0 = torch.nn.BatchNorm1d(1, affine=False, eps=1e-05, momentum=0.01, track_running_stats=True)\n",
    "bn1 = torch.nn.BatchNorm1d(1, affine=False, eps=1e-05, momentum=0.05, track_running_stats=True)\n",
    "\n",
    "mean_= []\n",
    "var_= []\n",
    "\n",
    "x = np.random.rand(1000,1)*20+20\n",
    "xt = torch.tensor(x).float()\n",
    "for i in range(50):\n",
    "    bn0(xt)\n",
    "    bn1(xt)\n",
    "\n",
    "\n",
    "    ax[0].plot(i, bn0.running_mean.numpy().copy(), '.b')\n",
    "    ax[0].plot(i, bn1.running_mean.numpy().copy(), '.b')\n",
    "    ax[0].plot(i, (np.mean(x)), 'xb')\n",
    "\n",
    "    ax[1].plot(i, bn0.running_var.numpy().copy(), '.r')\n",
    "    ax[1].plot(i, bn1.running_var.numpy().copy(), '.r')\n",
    "    ax[1].plot(i, (np.var(x)), 'xr')\n",
    "\n",
    "ax[0].set(ylim=(0,50))\n",
    "ax[1].set(ylim=(0,50))\n",
    "plt.show()\n"
   ]
  }
 ],
 "metadata": {
  "kernelspec": {
   "display_name": "Python 3.8.0 ('cplae_met')",
   "language": "python",
   "name": "python3"
  },
  "language_info": {
   "codemirror_mode": {
    "name": "ipython",
    "version": 3
   },
   "file_extension": ".py",
   "mimetype": "text/x-python",
   "name": "python",
   "nbconvert_exporter": "python",
   "pygments_lexer": "ipython3",
   "version": "3.8.0"
  },
  "orig_nbformat": 4,
  "vscode": {
   "interpreter": {
    "hash": "9eadf17778d5143981a8a97fb2a6eb547b72cd99abcb4b2b10d89b852fee26ae"
   }
  }
 },
 "nbformat": 4,
 "nbformat_minor": 2
}
