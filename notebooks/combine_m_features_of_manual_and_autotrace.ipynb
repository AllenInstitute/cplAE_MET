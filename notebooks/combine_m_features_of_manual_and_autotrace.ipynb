{
 "cells": [
  {
   "attachments": {},
   "cell_type": "markdown",
   "metadata": {},
   "source": [
    "Matt Malory gave me two file for m features that have the features for the manual and auto-trace cells. I am going to combine them together and use them as m features in the m-autoencoder"
   ]
  },
  {
   "cell_type": "code",
   "execution_count": 1,
   "metadata": {},
   "outputs": [],
   "source": [
    "import numpy as np\n",
    "import pandas as pd"
   ]
  },
  {
   "cell_type": "code",
   "execution_count": 2,
   "metadata": {},
   "outputs": [],
   "source": [
    "path = \"/home/fahimehb/Remote-AI-root/allen/programs/celltypes/workgroups/mousecelltypes/MachineLearning/Patchseq-Exc/dat/\"\n",
    "exc_file_manual = \"/For_Fahimeh/ivscc_exc_RawFeatureWide.csv\"\n",
    "exc_file_auto = \"/For_Fahimeh/ivscc_exc_autotrace_RawFeatureWide.csv\"\n",
    "\n",
    "inh_file_manual = \"/For_Fahimeh/ivscc_inhib_RawFeatureWide.csv\"\n",
    "inh_file_auto = \"/For_Fahimeh/ivscc_inhib_autotrace_RawFeatureWide.csv\""
   ]
  },
  {
   "cell_type": "code",
   "execution_count": 3,
   "metadata": {},
   "outputs": [],
   "source": [
    "exc_manual = pd.read_csv(path + exc_file_manual)\n",
    "exc_manual.specimen_id = exc_manual.specimen_id.astype(str)\n",
    "exc_auto = pd.read_csv(path + exc_file_auto)\n",
    "exc_auto.specimen_id = exc_auto.specimen_id.astype(str)\n",
    "\n",
    "inh_manual = pd.read_csv(path + inh_file_manual)\n",
    "inh_manual.specimen_id = inh_manual.specimen_id.astype(str)\n",
    "inh_auto = pd.read_csv(path + inh_file_auto)\n",
    "inh_auto.specimen_id = inh_auto.specimen_id.astype(str)"
   ]
  },
  {
   "cell_type": "code",
   "execution_count": 4,
   "metadata": {},
   "outputs": [
    {
     "data": {
      "text/plain": [
       "Index(['specimen_id', 'apical_dendrite_bias_x', 'apical_dendrite_bias_y',\n",
       "       'apical_dendrite_depth_pc_0', 'apical_dendrite_depth_pc_1',\n",
       "       'apical_dendrite_depth_pc_2', 'apical_dendrite_depth_pc_3',\n",
       "       'apical_dendrite_early_branch_path',\n",
       "       'apical_dendrite_emd_with_basal_dendrite', 'apical_dendrite_extent_x',\n",
       "       'apical_dendrite_extent_y', 'apical_dendrite_frac_above_basal_dendrite',\n",
       "       'apical_dendrite_frac_below_basal_dendrite',\n",
       "       'apical_dendrite_frac_intersect_basal_dendrite',\n",
       "       'apical_dendrite_max_branch_order',\n",
       "       'apical_dendrite_max_euclidean_distance',\n",
       "       'apical_dendrite_max_path_distance', 'apical_dendrite_mean_contraction',\n",
       "       'apical_dendrite_mean_diameter',\n",
       "       'apical_dendrite_mean_moments_along_max_distance_projection',\n",
       "       'apical_dendrite_num_branches',\n",
       "       'apical_dendrite_num_outer_bifurcations',\n",
       "       'apical_dendrite_soma_percentile_x',\n",
       "       'apical_dendrite_soma_percentile_y',\n",
       "       'apical_dendrite_std_moments_along_max_distance_projection',\n",
       "       'apical_dendrite_total_length', 'apical_dendrite_total_surface_area',\n",
       "       'axon_exit_distance', 'axon_exit_theta', 'basal_dendrite_bias_x',\n",
       "       'basal_dendrite_bias_y', 'basal_dendrite_calculate_number_of_stems',\n",
       "       'basal_dendrite_extent_x', 'basal_dendrite_extent_y',\n",
       "       'basal_dendrite_frac_above_apical_dendrite',\n",
       "       'basal_dendrite_frac_below_apical_dendrite',\n",
       "       'basal_dendrite_frac_intersect_apical_dendrite',\n",
       "       'basal_dendrite_max_branch_order',\n",
       "       'basal_dendrite_max_euclidean_distance',\n",
       "       'basal_dendrite_max_path_distance', 'basal_dendrite_mean_contraction',\n",
       "       'basal_dendrite_mean_diameter', 'basal_dendrite_num_branches',\n",
       "       'basal_dendrite_soma_percentile_x', 'basal_dendrite_soma_percentile_y',\n",
       "       'basal_dendrite_stem_exit_down', 'basal_dendrite_stem_exit_side',\n",
       "       'basal_dendrite_stem_exit_up', 'basal_dendrite_total_length',\n",
       "       'basal_dendrite_total_surface_area', 'soma_aligned_dist_from_pia',\n",
       "       'soma_surface_area'],\n",
       "      dtype='object')"
      ]
     },
     "execution_count": 4,
     "metadata": {},
     "output_type": "execute_result"
    }
   ],
   "source": [
    "exc_auto.columns"
   ]
  },
  {
   "cell_type": "code",
   "execution_count": 5,
   "metadata": {},
   "outputs": [
    {
     "name": "stdout",
     "output_type": "stream",
     "text": [
      "(384, 52) (783, 52) (519, 46) (823, 47)\n",
      "total number of cells:  2509\n"
     ]
    }
   ],
   "source": [
    "print(exc_manual.shape, exc_auto.shape, inh_manual.shape, inh_auto.shape)\n",
    "print(\"total number of cells: \", exc_manual.shape[0] + exc_auto.shape[0] + inh_manual.shape[0] + inh_auto.shape[0])"
   ]
  },
  {
   "cell_type": "code",
   "execution_count": 6,
   "metadata": {},
   "outputs": [
    {
     "data": {
      "text/plain": [
       "array([ True,  True,  True,  True,  True,  True,  True,  True,  True,\n",
       "        True,  True,  True,  True,  True,  True,  True,  True,  True,\n",
       "        True,  True,  True,  True,  True,  True,  True,  True,  True,\n",
       "        True,  True,  True,  True,  True,  True,  True,  True,  True,\n",
       "        True,  True,  True,  True,  True,  True,  True,  True,  True,\n",
       "        True,  True,  True,  True,  True,  True,  True])"
      ]
     },
     "execution_count": 6,
     "metadata": {},
     "output_type": "execute_result"
    }
   ],
   "source": [
    "exc_manual.columns == exc_auto.columns"
   ]
  },
  {
   "cell_type": "code",
   "execution_count": 7,
   "metadata": {},
   "outputs": [
    {
     "data": {
      "text/plain": [
       "['soma_surface_area']"
      ]
     },
     "execution_count": 7,
     "metadata": {},
     "output_type": "execute_result"
    }
   ],
   "source": [
    "[c for c in inh_auto.columns if c not in inh_manual.columns]"
   ]
  },
  {
   "cell_type": "code",
   "execution_count": 8,
   "metadata": {},
   "outputs": [],
   "source": [
    "# Since soma_surface_area is a feature that we wont use at the end, it is ok to drop it\n",
    "# or add it and have it as nans in the other dataframe\n",
    "inh_manual[\"soma_surface_area\"] = np.nan"
   ]
  },
  {
   "cell_type": "code",
   "execution_count": 9,
   "metadata": {},
   "outputs": [
    {
     "data": {
      "text/plain": [
       "array([ True,  True,  True,  True,  True,  True,  True,  True,  True,\n",
       "        True,  True,  True,  True,  True,  True,  True,  True,  True,\n",
       "        True,  True,  True,  True,  True,  True,  True,  True,  True,\n",
       "        True,  True,  True,  True,  True,  True,  True,  True,  True,\n",
       "        True,  True,  True,  True,  True,  True,  True,  True,  True,\n",
       "        True,  True])"
      ]
     },
     "execution_count": 9,
     "metadata": {},
     "output_type": "execute_result"
    }
   ],
   "source": [
    "inh_manual.columns == inh_auto.columns"
   ]
  },
  {
   "cell_type": "code",
   "execution_count": 10,
   "metadata": {},
   "outputs": [],
   "source": [
    "def common_member(a, b):\n",
    "    a_set = set(a)\n",
    "    b_set = set(b)\n",
    " \n",
    "    if (a_set & b_set):\n",
    "        return (a_set & b_set)\n",
    "    else:\n",
    "        print(\"No common elements\")"
   ]
  },
  {
   "cell_type": "code",
   "execution_count": 11,
   "metadata": {},
   "outputs": [
    {
     "name": "stdout",
     "output_type": "stream",
     "text": [
      "783\n",
      "783\n",
      "384\n",
      "384\n"
     ]
    },
    {
     "data": {
      "text/plain": [
       "368"
      ]
     },
     "execution_count": 11,
     "metadata": {},
     "output_type": "execute_result"
    }
   ],
   "source": [
    "# Lets make sure that the specimen ids are unique\n",
    "\n",
    "print(len(exc_auto.specimen_id))\n",
    "print(len(np.unique(exc_auto.specimen_id)))\n",
    "\n",
    "print(len(exc_manual.specimen_id))\n",
    "print(len(np.unique(exc_manual.specimen_id)))\n",
    "\n",
    "# Check if they are mutually exclusive\n",
    "com_mem  = common_member(exc_manual.specimen_id.to_list(), exc_auto.specimen_id.to_list())\n",
    "len(com_mem)"
   ]
  },
  {
   "cell_type": "code",
   "execution_count": 12,
   "metadata": {},
   "outputs": [],
   "source": [
    "# Matt said, we will use the manual features when available! so I will drop the common cells from the auto file\n",
    "exc_auto.drop(exc_auto[exc_auto['specimen_id'].isin(com_mem)].index, inplace = True)\n"
   ]
  },
  {
   "cell_type": "code",
   "execution_count": 13,
   "metadata": {},
   "outputs": [
    {
     "name": "stdout",
     "output_type": "stream",
     "text": [
      "823\n",
      "823\n",
      "519\n",
      "519\n"
     ]
    },
    {
     "data": {
      "text/plain": [
       "491"
      ]
     },
     "execution_count": 13,
     "metadata": {},
     "output_type": "execute_result"
    }
   ],
   "source": [
    "# Lets make sure that the specimen ids are unique\n",
    "\n",
    "print(len(inh_auto.specimen_id))\n",
    "print(len(np.unique(inh_auto.specimen_id)))\n",
    "\n",
    "print(len(inh_manual.specimen_id))\n",
    "print(len(np.unique(inh_manual.specimen_id)))\n",
    "\n",
    "# Check if they are mutually exclusive\n",
    "com_mem  = common_member(inh_manual.specimen_id.to_list(), inh_auto.specimen_id.to_list())\n",
    "len(com_mem)"
   ]
  },
  {
   "cell_type": "code",
   "execution_count": 14,
   "metadata": {},
   "outputs": [],
   "source": [
    "inh_auto.drop(inh_auto[inh_auto['specimen_id'].isin(com_mem)].index, inplace = True)"
   ]
  },
  {
   "cell_type": "code",
   "execution_count": 15,
   "metadata": {},
   "outputs": [],
   "source": [
    "exc_auto_manual = exc_auto.merge(exc_manual, how='outer')"
   ]
  },
  {
   "cell_type": "code",
   "execution_count": 16,
   "metadata": {},
   "outputs": [],
   "source": [
    "inh_auto_manual = inh_auto.merge(inh_manual, how='outer')"
   ]
  },
  {
   "cell_type": "code",
   "execution_count": 17,
   "metadata": {},
   "outputs": [
    {
     "name": "stdout",
     "output_type": "stream",
     "text": [
      "No common elements\n"
     ]
    }
   ],
   "source": [
    "# now lets check if inh and exc cells are mutually exclusive\n",
    "common_member(inh_auto_manual.specimen_id.to_list(), exc_auto_manual.specimen_id.to_list())"
   ]
  },
  {
   "cell_type": "code",
   "execution_count": 19,
   "metadata": {},
   "outputs": [
    {
     "data": {
      "text/html": [
       "<div>\n",
       "<style scoped>\n",
       "    .dataframe tbody tr th:only-of-type {\n",
       "        vertical-align: middle;\n",
       "    }\n",
       "\n",
       "    .dataframe tbody tr th {\n",
       "        vertical-align: top;\n",
       "    }\n",
       "\n",
       "    .dataframe thead th {\n",
       "        text-align: right;\n",
       "    }\n",
       "</style>\n",
       "<table border=\"1\" class=\"dataframe\">\n",
       "  <thead>\n",
       "    <tr style=\"text-align: right;\">\n",
       "      <th></th>\n",
       "      <th>specimen_id</th>\n",
       "      <th>apical_dendrite_bias_x</th>\n",
       "      <th>apical_dendrite_bias_y</th>\n",
       "      <th>apical_dendrite_depth_pc_0</th>\n",
       "      <th>apical_dendrite_depth_pc_1</th>\n",
       "      <th>apical_dendrite_depth_pc_2</th>\n",
       "      <th>apical_dendrite_depth_pc_3</th>\n",
       "      <th>apical_dendrite_early_branch_path</th>\n",
       "      <th>apical_dendrite_emd_with_basal_dendrite</th>\n",
       "      <th>apical_dendrite_extent_x</th>\n",
       "      <th>...</th>\n",
       "      <th>basal_dendrite_num_branches</th>\n",
       "      <th>basal_dendrite_soma_percentile_x</th>\n",
       "      <th>basal_dendrite_soma_percentile_y</th>\n",
       "      <th>basal_dendrite_stem_exit_down</th>\n",
       "      <th>basal_dendrite_stem_exit_side</th>\n",
       "      <th>basal_dendrite_stem_exit_up</th>\n",
       "      <th>basal_dendrite_total_length</th>\n",
       "      <th>basal_dendrite_total_surface_area</th>\n",
       "      <th>soma_aligned_dist_from_pia</th>\n",
       "      <th>soma_surface_area</th>\n",
       "    </tr>\n",
       "  </thead>\n",
       "  <tbody>\n",
       "    <tr>\n",
       "      <th>0</th>\n",
       "      <td>586071558</td>\n",
       "      <td>15.640472</td>\n",
       "      <td>560.457128</td>\n",
       "      <td>114.138461</td>\n",
       "      <td>9.920419</td>\n",
       "      <td>38.424189</td>\n",
       "      <td>-30.054454</td>\n",
       "      <td>0.556559</td>\n",
       "      <td>63.294199</td>\n",
       "      <td>184.801397</td>\n",
       "      <td>...</td>\n",
       "      <td>16.0</td>\n",
       "      <td>0.419355</td>\n",
       "      <td>0.659323</td>\n",
       "      <td>0.000000</td>\n",
       "      <td>0.833333</td>\n",
       "      <td>0.166667</td>\n",
       "      <td>1596.996207</td>\n",
       "      <td>6516.402249</td>\n",
       "      <td>545.513147</td>\n",
       "      <td>409.064298</td>\n",
       "    </tr>\n",
       "    <tr>\n",
       "      <th>1</th>\n",
       "      <td>587062666</td>\n",
       "      <td>79.832357</td>\n",
       "      <td>512.398427</td>\n",
       "      <td>49.675234</td>\n",
       "      <td>0.431590</td>\n",
       "      <td>26.593156</td>\n",
       "      <td>-65.152302</td>\n",
       "      <td>1.258455</td>\n",
       "      <td>44.541769</td>\n",
       "      <td>171.111719</td>\n",
       "      <td>...</td>\n",
       "      <td>29.0</td>\n",
       "      <td>0.462483</td>\n",
       "      <td>0.687585</td>\n",
       "      <td>0.000000</td>\n",
       "      <td>1.000000</td>\n",
       "      <td>0.000000</td>\n",
       "      <td>2710.195284</td>\n",
       "      <td>28412.544422</td>\n",
       "      <td>515.275722</td>\n",
       "      <td>1180.761194</td>\n",
       "    </tr>\n",
       "    <tr>\n",
       "      <th>2</th>\n",
       "      <td>589716891</td>\n",
       "      <td>104.783264</td>\n",
       "      <td>577.102263</td>\n",
       "      <td>64.075500</td>\n",
       "      <td>-9.270648</td>\n",
       "      <td>41.876505</td>\n",
       "      <td>-25.428638</td>\n",
       "      <td>0.631016</td>\n",
       "      <td>63.050652</td>\n",
       "      <td>172.413453</td>\n",
       "      <td>...</td>\n",
       "      <td>15.0</td>\n",
       "      <td>0.000000</td>\n",
       "      <td>0.771772</td>\n",
       "      <td>0.000000</td>\n",
       "      <td>1.000000</td>\n",
       "      <td>0.000000</td>\n",
       "      <td>1234.382303</td>\n",
       "      <td>11339.125504</td>\n",
       "      <td>566.147737</td>\n",
       "      <td>421.849971</td>\n",
       "    </tr>\n",
       "    <tr>\n",
       "      <th>3</th>\n",
       "      <td>589754504</td>\n",
       "      <td>0.102719</td>\n",
       "      <td>70.813969</td>\n",
       "      <td>-11.217564</td>\n",
       "      <td>-14.783886</td>\n",
       "      <td>18.785130</td>\n",
       "      <td>5.232744</td>\n",
       "      <td>0.632779</td>\n",
       "      <td>10.314850</td>\n",
       "      <td>209.760225</td>\n",
       "      <td>...</td>\n",
       "      <td>18.0</td>\n",
       "      <td>0.459016</td>\n",
       "      <td>0.800546</td>\n",
       "      <td>0.000000</td>\n",
       "      <td>1.000000</td>\n",
       "      <td>0.000000</td>\n",
       "      <td>1630.137681</td>\n",
       "      <td>16149.448618</td>\n",
       "      <td>690.497947</td>\n",
       "      <td>783.824828</td>\n",
       "    </tr>\n",
       "    <tr>\n",
       "      <th>4</th>\n",
       "      <td>596995044</td>\n",
       "      <td>48.084711</td>\n",
       "      <td>591.383293</td>\n",
       "      <td>17.624717</td>\n",
       "      <td>-57.727757</td>\n",
       "      <td>69.308145</td>\n",
       "      <td>-21.146008</td>\n",
       "      <td>0.182827</td>\n",
       "      <td>33.485238</td>\n",
       "      <td>264.718481</td>\n",
       "      <td>...</td>\n",
       "      <td>20.0</td>\n",
       "      <td>0.485263</td>\n",
       "      <td>0.650526</td>\n",
       "      <td>0.142857</td>\n",
       "      <td>0.571429</td>\n",
       "      <td>0.285714</td>\n",
       "      <td>977.547590</td>\n",
       "      <td>5058.323976</td>\n",
       "      <td>679.123288</td>\n",
       "      <td>183.652931</td>\n",
       "    </tr>\n",
       "  </tbody>\n",
       "</table>\n",
       "<p>5 rows × 52 columns</p>\n",
       "</div>"
      ],
      "text/plain": [
       "  specimen_id  apical_dendrite_bias_x  apical_dendrite_bias_y  \\\n",
       "0   586071558               15.640472              560.457128   \n",
       "1   587062666               79.832357              512.398427   \n",
       "2   589716891              104.783264              577.102263   \n",
       "3   589754504                0.102719               70.813969   \n",
       "4   596995044               48.084711              591.383293   \n",
       "\n",
       "   apical_dendrite_depth_pc_0  apical_dendrite_depth_pc_1  \\\n",
       "0                  114.138461                    9.920419   \n",
       "1                   49.675234                    0.431590   \n",
       "2                   64.075500                   -9.270648   \n",
       "3                  -11.217564                  -14.783886   \n",
       "4                   17.624717                  -57.727757   \n",
       "\n",
       "   apical_dendrite_depth_pc_2  apical_dendrite_depth_pc_3  \\\n",
       "0                   38.424189                  -30.054454   \n",
       "1                   26.593156                  -65.152302   \n",
       "2                   41.876505                  -25.428638   \n",
       "3                   18.785130                    5.232744   \n",
       "4                   69.308145                  -21.146008   \n",
       "\n",
       "   apical_dendrite_early_branch_path  apical_dendrite_emd_with_basal_dendrite  \\\n",
       "0                           0.556559                                63.294199   \n",
       "1                           1.258455                                44.541769   \n",
       "2                           0.631016                                63.050652   \n",
       "3                           0.632779                                10.314850   \n",
       "4                           0.182827                                33.485238   \n",
       "\n",
       "   apical_dendrite_extent_x  ...  basal_dendrite_num_branches  \\\n",
       "0                184.801397  ...                         16.0   \n",
       "1                171.111719  ...                         29.0   \n",
       "2                172.413453  ...                         15.0   \n",
       "3                209.760225  ...                         18.0   \n",
       "4                264.718481  ...                         20.0   \n",
       "\n",
       "   basal_dendrite_soma_percentile_x  basal_dendrite_soma_percentile_y  \\\n",
       "0                          0.419355                          0.659323   \n",
       "1                          0.462483                          0.687585   \n",
       "2                          0.000000                          0.771772   \n",
       "3                          0.459016                          0.800546   \n",
       "4                          0.485263                          0.650526   \n",
       "\n",
       "   basal_dendrite_stem_exit_down  basal_dendrite_stem_exit_side  \\\n",
       "0                       0.000000                       0.833333   \n",
       "1                       0.000000                       1.000000   \n",
       "2                       0.000000                       1.000000   \n",
       "3                       0.000000                       1.000000   \n",
       "4                       0.142857                       0.571429   \n",
       "\n",
       "   basal_dendrite_stem_exit_up  basal_dendrite_total_length  \\\n",
       "0                     0.166667                  1596.996207   \n",
       "1                     0.000000                  2710.195284   \n",
       "2                     0.000000                  1234.382303   \n",
       "3                     0.000000                  1630.137681   \n",
       "4                     0.285714                   977.547590   \n",
       "\n",
       "   basal_dendrite_total_surface_area  soma_aligned_dist_from_pia  \\\n",
       "0                        6516.402249                  545.513147   \n",
       "1                       28412.544422                  515.275722   \n",
       "2                       11339.125504                  566.147737   \n",
       "3                       16149.448618                  690.497947   \n",
       "4                        5058.323976                  679.123288   \n",
       "\n",
       "   soma_surface_area  \n",
       "0         409.064298  \n",
       "1        1180.761194  \n",
       "2         421.849971  \n",
       "3         783.824828  \n",
       "4         183.652931  \n",
       "\n",
       "[5 rows x 52 columns]"
      ]
     },
     "execution_count": 19,
     "metadata": {},
     "output_type": "execute_result"
    }
   ],
   "source": [
    "exc_auto_manual.head()"
   ]
  },
  {
   "cell_type": "code",
   "execution_count": 20,
   "metadata": {},
   "outputs": [
    {
     "data": {
      "text/html": [
       "<div>\n",
       "<style scoped>\n",
       "    .dataframe tbody tr th:only-of-type {\n",
       "        vertical-align: middle;\n",
       "    }\n",
       "\n",
       "    .dataframe tbody tr th {\n",
       "        vertical-align: top;\n",
       "    }\n",
       "\n",
       "    .dataframe thead th {\n",
       "        text-align: right;\n",
       "    }\n",
       "</style>\n",
       "<table border=\"1\" class=\"dataframe\">\n",
       "  <thead>\n",
       "    <tr style=\"text-align: right;\">\n",
       "      <th></th>\n",
       "      <th>specimen_id</th>\n",
       "      <th>axon_bias_x</th>\n",
       "      <th>axon_bias_y</th>\n",
       "      <th>axon_depth_pc_0</th>\n",
       "      <th>axon_depth_pc_1</th>\n",
       "      <th>axon_depth_pc_2</th>\n",
       "      <th>axon_depth_pc_3</th>\n",
       "      <th>axon_depth_pc_4</th>\n",
       "      <th>axon_emd_with_basal_dendrite</th>\n",
       "      <th>axon_exit_distance</th>\n",
       "      <th>...</th>\n",
       "      <th>basal_dendrite_num_branches</th>\n",
       "      <th>basal_dendrite_soma_percentile_x</th>\n",
       "      <th>basal_dendrite_soma_percentile_y</th>\n",
       "      <th>basal_dendrite_stem_exit_down</th>\n",
       "      <th>basal_dendrite_stem_exit_side</th>\n",
       "      <th>basal_dendrite_stem_exit_up</th>\n",
       "      <th>basal_dendrite_total_length</th>\n",
       "      <th>basal_dendrite_total_surface_area</th>\n",
       "      <th>soma_aligned_dist_from_pia</th>\n",
       "      <th>soma_surface_area</th>\n",
       "    </tr>\n",
       "  </thead>\n",
       "  <tbody>\n",
       "    <tr>\n",
       "      <th>0</th>\n",
       "      <td>530986537</td>\n",
       "      <td>23.183363</td>\n",
       "      <td>-120.081929</td>\n",
       "      <td>1711.138758</td>\n",
       "      <td>-977.430223</td>\n",
       "      <td>644.911883</td>\n",
       "      <td>353.597710</td>\n",
       "      <td>594.132624</td>\n",
       "      <td>4.085478</td>\n",
       "      <td>0.000000</td>\n",
       "      <td>...</td>\n",
       "      <td>98.0</td>\n",
       "      <td>0.432841</td>\n",
       "      <td>0.651864</td>\n",
       "      <td>0.000000</td>\n",
       "      <td>1.000000</td>\n",
       "      <td>0.000000</td>\n",
       "      <td>5622.446927</td>\n",
       "      <td>56230.745851</td>\n",
       "      <td>197.766115</td>\n",
       "      <td>31.838096</td>\n",
       "    </tr>\n",
       "    <tr>\n",
       "      <th>1</th>\n",
       "      <td>531241377</td>\n",
       "      <td>0.093554</td>\n",
       "      <td>-296.235655</td>\n",
       "      <td>2788.639563</td>\n",
       "      <td>-3425.812685</td>\n",
       "      <td>-2020.757167</td>\n",
       "      <td>3906.930034</td>\n",
       "      <td>2060.772370</td>\n",
       "      <td>33.672093</td>\n",
       "      <td>0.000000</td>\n",
       "      <td>...</td>\n",
       "      <td>34.0</td>\n",
       "      <td>0.321478</td>\n",
       "      <td>0.188668</td>\n",
       "      <td>0.250000</td>\n",
       "      <td>0.583333</td>\n",
       "      <td>0.166667</td>\n",
       "      <td>2464.674685</td>\n",
       "      <td>21382.053396</td>\n",
       "      <td>266.250840</td>\n",
       "      <td>23.956851</td>\n",
       "    </tr>\n",
       "    <tr>\n",
       "      <th>2</th>\n",
       "      <td>531982248</td>\n",
       "      <td>57.407327</td>\n",
       "      <td>-178.647279</td>\n",
       "      <td>1963.749593</td>\n",
       "      <td>-1143.717608</td>\n",
       "      <td>379.292836</td>\n",
       "      <td>480.329348</td>\n",
       "      <td>948.880379</td>\n",
       "      <td>19.596852</td>\n",
       "      <td>37.526923</td>\n",
       "      <td>...</td>\n",
       "      <td>69.0</td>\n",
       "      <td>0.489647</td>\n",
       "      <td>0.318280</td>\n",
       "      <td>0.000000</td>\n",
       "      <td>0.857143</td>\n",
       "      <td>0.142857</td>\n",
       "      <td>4954.184024</td>\n",
       "      <td>52830.961524</td>\n",
       "      <td>195.539016</td>\n",
       "      <td>36.197859</td>\n",
       "    </tr>\n",
       "    <tr>\n",
       "      <th>3</th>\n",
       "      <td>591626616</td>\n",
       "      <td>90.875908</td>\n",
       "      <td>121.796181</td>\n",
       "      <td>14187.657226</td>\n",
       "      <td>12532.437989</td>\n",
       "      <td>6351.349757</td>\n",
       "      <td>2256.045091</td>\n",
       "      <td>8440.919711</td>\n",
       "      <td>17.252390</td>\n",
       "      <td>0.000000</td>\n",
       "      <td>...</td>\n",
       "      <td>83.0</td>\n",
       "      <td>0.438596</td>\n",
       "      <td>0.137003</td>\n",
       "      <td>0.272727</td>\n",
       "      <td>0.545455</td>\n",
       "      <td>0.181818</td>\n",
       "      <td>4302.484383</td>\n",
       "      <td>35667.072860</td>\n",
       "      <td>275.274849</td>\n",
       "      <td>21.874919</td>\n",
       "    </tr>\n",
       "    <tr>\n",
       "      <th>4</th>\n",
       "      <td>591629193</td>\n",
       "      <td>102.586745</td>\n",
       "      <td>222.957515</td>\n",
       "      <td>-8756.528193</td>\n",
       "      <td>-2035.712946</td>\n",
       "      <td>8396.360104</td>\n",
       "      <td>5481.351398</td>\n",
       "      <td>10367.398914</td>\n",
       "      <td>9.853639</td>\n",
       "      <td>0.000000</td>\n",
       "      <td>...</td>\n",
       "      <td>43.0</td>\n",
       "      <td>0.495442</td>\n",
       "      <td>0.281194</td>\n",
       "      <td>0.428571</td>\n",
       "      <td>0.571429</td>\n",
       "      <td>0.000000</td>\n",
       "      <td>3339.172790</td>\n",
       "      <td>30131.305477</td>\n",
       "      <td>705.655050</td>\n",
       "      <td>25.918403</td>\n",
       "    </tr>\n",
       "  </tbody>\n",
       "</table>\n",
       "<p>5 rows × 47 columns</p>\n",
       "</div>"
      ],
      "text/plain": [
       "  specimen_id  axon_bias_x  axon_bias_y  axon_depth_pc_0  axon_depth_pc_1  \\\n",
       "0   530986537    23.183363  -120.081929      1711.138758      -977.430223   \n",
       "1   531241377     0.093554  -296.235655      2788.639563     -3425.812685   \n",
       "2   531982248    57.407327  -178.647279      1963.749593     -1143.717608   \n",
       "3   591626616    90.875908   121.796181     14187.657226     12532.437989   \n",
       "4   591629193   102.586745   222.957515     -8756.528193     -2035.712946   \n",
       "\n",
       "   axon_depth_pc_2  axon_depth_pc_3  axon_depth_pc_4  \\\n",
       "0       644.911883       353.597710       594.132624   \n",
       "1     -2020.757167      3906.930034      2060.772370   \n",
       "2       379.292836       480.329348       948.880379   \n",
       "3      6351.349757      2256.045091      8440.919711   \n",
       "4      8396.360104      5481.351398     10367.398914   \n",
       "\n",
       "   axon_emd_with_basal_dendrite  axon_exit_distance  ...  \\\n",
       "0                      4.085478            0.000000  ...   \n",
       "1                     33.672093            0.000000  ...   \n",
       "2                     19.596852           37.526923  ...   \n",
       "3                     17.252390            0.000000  ...   \n",
       "4                      9.853639            0.000000  ...   \n",
       "\n",
       "   basal_dendrite_num_branches  basal_dendrite_soma_percentile_x  \\\n",
       "0                         98.0                          0.432841   \n",
       "1                         34.0                          0.321478   \n",
       "2                         69.0                          0.489647   \n",
       "3                         83.0                          0.438596   \n",
       "4                         43.0                          0.495442   \n",
       "\n",
       "   basal_dendrite_soma_percentile_y  basal_dendrite_stem_exit_down  \\\n",
       "0                          0.651864                       0.000000   \n",
       "1                          0.188668                       0.250000   \n",
       "2                          0.318280                       0.000000   \n",
       "3                          0.137003                       0.272727   \n",
       "4                          0.281194                       0.428571   \n",
       "\n",
       "   basal_dendrite_stem_exit_side  basal_dendrite_stem_exit_up  \\\n",
       "0                       1.000000                     0.000000   \n",
       "1                       0.583333                     0.166667   \n",
       "2                       0.857143                     0.142857   \n",
       "3                       0.545455                     0.181818   \n",
       "4                       0.571429                     0.000000   \n",
       "\n",
       "   basal_dendrite_total_length  basal_dendrite_total_surface_area  \\\n",
       "0                  5622.446927                       56230.745851   \n",
       "1                  2464.674685                       21382.053396   \n",
       "2                  4954.184024                       52830.961524   \n",
       "3                  4302.484383                       35667.072860   \n",
       "4                  3339.172790                       30131.305477   \n",
       "\n",
       "   soma_aligned_dist_from_pia  soma_surface_area  \n",
       "0                  197.766115          31.838096  \n",
       "1                  266.250840          23.956851  \n",
       "2                  195.539016          36.197859  \n",
       "3                  275.274849          21.874919  \n",
       "4                  705.655050          25.918403  \n",
       "\n",
       "[5 rows x 47 columns]"
      ]
     },
     "execution_count": 20,
     "metadata": {},
     "output_type": "execute_result"
    }
   ],
   "source": [
    "inh_auto_manual.head()"
   ]
  },
  {
   "cell_type": "code",
   "execution_count": 21,
   "metadata": {},
   "outputs": [],
   "source": [
    "exc_auto_manual.to_csv(path + \"/ivscc_exc_m_features_auto_manual.csv\")\n",
    "inh_auto_manual.to_csv(path + \"/ivscc_inh_m_features_auto_manual.csv\")"
   ]
  }
 ],
 "metadata": {
  "kernelspec": {
   "display_name": "Python 3.8.13 ('cplae_met')",
   "language": "python",
   "name": "python3"
  },
  "language_info": {
   "codemirror_mode": {
    "name": "ipython",
    "version": 3
   },
   "file_extension": ".py",
   "mimetype": "text/x-python",
   "name": "python",
   "nbconvert_exporter": "python",
   "pygments_lexer": "ipython3",
   "version": "3.8.13"
  },
  "orig_nbformat": 4,
  "vscode": {
   "interpreter": {
    "hash": "b5eb60d146f8faf7ea6865a598c7f2e034e4748de202b0cf2037de6d3aa28423"
   }
  }
 },
 "nbformat": 4,
 "nbformat_minor": 2
}
