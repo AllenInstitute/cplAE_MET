{
 "cells": [
  {
   "cell_type": "code",
   "execution_count": 1,
   "metadata": {},
   "outputs": [
    {
     "name": "stderr",
     "output_type": "stream",
     "text": [
      "Failed to detect the name of this notebook, you can set it manually with the WANDB_NOTEBOOK_NAME environment variable to enable code saving.\n",
      "\u001b[34m\u001b[1mwandb\u001b[0m: Currently logged in as: \u001b[33mrhngla\u001b[0m. Use \u001b[1m`wandb login --relogin`\u001b[0m to force relogin\n"
     ]
    },
    {
     "data": {
      "text/html": [
       "Tracking run with wandb version 0.12.18"
      ],
      "text/plain": [
       "<IPython.core.display.HTML object>"
      ]
     },
     "metadata": {},
     "output_type": "display_data"
    },
    {
     "data": {
      "text/html": [
       "Run data is saved locally in <code>/home/rohan/Local/code/cplae_met/cplAE_MET/notebooks/wandb/run-20220613_114307-39t8mp1h</code>"
      ],
      "text/plain": [
       "<IPython.core.display.HTML object>"
      ]
     },
     "metadata": {},
     "output_type": "display_data"
    },
    {
     "data": {
      "text/html": [
       "Syncing run <strong><a href=\"http://localhost:8080/rhngla/my-test-project/runs/39t8mp1h\" target=\"_blank\">fallen-plasma-7</a></strong> to <a href=\"http://localhost:8080/rhngla/my-test-project\" target=\"_blank\">Weights & Biases</a> (<a href=\"https://wandb.me/run\" target=\"_blank\">docs</a>)<br/>"
      ],
      "text/plain": [
       "<IPython.core.display.HTML object>"
      ]
     },
     "metadata": {},
     "output_type": "display_data"
    }
   ],
   "source": [
    "import wandb\n",
    "import random\n",
    "import torch\n",
    "import math\n",
    "\n",
    "import matplotlib.pyplot as plt\n",
    "import seaborn as sns\n",
    "sns.set()\n",
    "\n",
    "\n",
    "wandb.init(project=\"my-test-project\", group='simple', entity=\"rhngla\")\n",
    "config = {\"learning_rate\": 0.001, \"epochs\": 100, \"batch_size\": 128}\n",
    "wandb.config = config"
   ]
  },
  {
   "cell_type": "code",
   "execution_count": 14,
   "metadata": {},
   "outputs": [
    {
     "name": "stdout",
     "output_type": "stream",
     "text": [
      "0 35513.7890625\n",
      "1 35211.55859375\n",
      "2 34643.42578125\n",
      "3 33846.97265625\n",
      "4 32859.74609375\n",
      "5 31718.24609375\n",
      "6 30457.15234375\n",
      "7 29108.73828125\n",
      "8 27702.4921875\n",
      "9 26264.84765625\n",
      "10 24819.11328125\n",
      "11 23385.41796875\n",
      "12 21980.783203125\n",
      "13 20619.275390625\n",
      "14 19312.1640625\n",
      "15 18068.14453125\n",
      "16 16893.572265625\n",
      "17 15792.705078125\n",
      "18 14767.9599609375\n",
      "19 13820.162109375\n",
      "20 12948.779296875\n",
      "21 12152.158203125\n",
      "22 11427.7216796875\n",
      "23 10772.18359375\n",
      "24 10181.7109375\n",
      "25 9652.0927734375\n",
      "26 9178.8662109375\n",
      "27 8757.4453125\n",
      "28 8383.2236328125\n",
      "29 8051.65185546875\n",
      "30 7758.3115234375\n",
      "31 7498.974609375\n",
      "32 7269.63525390625\n",
      "33 7066.5478515625\n",
      "34 6886.2431640625\n",
      "35 6725.5439453125\n",
      "36 6581.5625\n",
      "37 6451.70703125\n",
      "38 6333.66455078125\n",
      "39 6225.3984375\n",
      "40 6125.130859375\n",
      "41 6031.3251953125\n",
      "42 5942.6669921875\n",
      "43 5858.04931640625\n",
      "44 5776.548828125\n",
      "45 5697.40869140625\n",
      "46 5620.021484375\n",
      "47 5543.90771484375\n",
      "48 5468.69921875\n",
      "49 5394.12646484375\n",
      "50 5319.99755859375\n",
      "51 5246.19287109375\n",
      "52 5172.6455078125\n",
      "53 5099.3330078125\n",
      "54 5026.26904296875\n",
      "55 4953.4931640625\n",
      "56 4881.064453125\n",
      "57 4809.0556640625\n",
      "58 4737.544921875\n",
      "59 4666.6162109375\n",
      "60 4596.3525390625\n",
      "61 4526.83349609375\n",
      "62 4458.13525390625\n",
      "63 4390.326171875\n",
      "64 4323.46826171875\n",
      "65 4257.61474609375\n",
      "66 4192.81103515625\n",
      "67 4129.09375\n",
      "68 4066.491943359375\n",
      "69 4005.02490234375\n",
      "70 3944.706787109375\n",
      "71 3885.5439453125\n",
      "72 3827.536376953125\n",
      "73 3770.678955078125\n",
      "74 3714.9619140625\n",
      "75 3660.371826171875\n",
      "76 3606.890869140625\n",
      "77 3554.49853515625\n",
      "78 3503.17236328125\n",
      "79 3452.888916015625\n",
      "80 3403.622314453125\n",
      "81 3355.3466796875\n",
      "82 3308.034423828125\n",
      "83 3261.66015625\n",
      "84 3216.197021484375\n",
      "85 3171.61865234375\n",
      "86 3127.900146484375\n",
      "87 3085.015869140625\n",
      "88 3042.94287109375\n",
      "89 3001.658203125\n",
      "90 2961.13916015625\n",
      "91 2921.365234375\n",
      "92 2882.31689453125\n",
      "93 2843.974365234375\n",
      "94 2806.320068359375\n",
      "95 2769.337646484375\n",
      "96 2733.01025390625\n",
      "97 2697.3232421875\n",
      "98 2662.261962890625\n",
      "99 2627.8125\n"
     ]
    },
    {
     "data": {
      "text/html": [
       "Waiting for W&B process to finish... <strong style=\"color:green\">(success).</strong>"
      ],
      "text/plain": [
       "<IPython.core.display.HTML object>"
      ]
     },
     "metadata": {},
     "output_type": "display_data"
    },
    {
     "data": {
      "application/vnd.jupyter.widget-view+json": {
       "model_id": "ada8f22d1a454db189f739c9d71f5872",
       "version_major": 2,
       "version_minor": 0
      },
      "text/plain": [
       "VBox(children=(Label(value='1.545 MB of 1.545 MB uploaded (0.000 MB deduped)\\r'), FloatProgress(value=1.0, max…"
      ]
     },
     "metadata": {},
     "output_type": "display_data"
    },
    {
     "data": {
      "text/html": [
       "<style>\n",
       "    table.wandb td:nth-child(1) { padding: 0 10px; text-align: left ; width: auto;} td:nth-child(2) {text-align: left ; width: 100%}\n",
       "    .wandb-row { display: flex; flex-direction: row; flex-wrap: wrap; justify-content: flex-start; width: 100% }\n",
       "    .wandb-col { display: flex; flex-direction: column; flex-basis: 100%; flex: 1; padding: 10px; }\n",
       "    </style>\n",
       "<div class=\"wandb-row\"><div class=\"wandb-col\"><h3>Run history:</h3><br/><table class=\"wandb\"><tr><td>loss</td><td>██▇▇▆▅▄▄▃▃▂▂▂▂▂▂▂▂▂▂▂▂▁▁▁▁▁▁▁▁▁▁▁▁▁▁▁▁▁▁</td></tr></table><br/></div><div class=\"wandb-col\"><h3>Run summary:</h3><br/><table class=\"wandb\"><tr><td>loss</td><td>2627.8125</td></tr></table><br/></div></div>"
      ],
      "text/plain": [
       "<IPython.core.display.HTML object>"
      ]
     },
     "metadata": {},
     "output_type": "display_data"
    },
    {
     "data": {
      "text/html": [
       "Synced <strong style=\"color:#cdcd00\">worldly-sky-6</strong>: <a href=\"http://localhost:8080/rhngla/my-test-project/runs/379fxbas\" target=\"_blank\">http://localhost:8080/rhngla/my-test-project/runs/379fxbas</a><br/>Synced 7 W&B file(s), 0 media file(s), 0 artifact file(s) and 1 other file(s)"
      ],
      "text/plain": [
       "<IPython.core.display.HTML object>"
      ]
     },
     "metadata": {},
     "output_type": "display_data"
    },
    {
     "data": {
      "text/html": [
       "Find logs at: <code>./wandb/run-20220613_114052-379fxbas/logs</code>"
      ],
      "text/plain": [
       "<IPython.core.display.HTML object>"
      ]
     },
     "metadata": {},
     "output_type": "display_data"
    },
    {
     "name": "stdout",
     "output_type": "stream",
     "text": [
      "Result: y = -0.9040217995643616 + 0.9743970632553101 x + -0.0648248940706253 x^2 + -0.10970024019479752 x^3\n"
     ]
    }
   ],
   "source": [
    "class DynamicNet(torch.nn.Module):\n",
    "    def __init__(self):\n",
    "        \"\"\"\n",
    "        In the constructor we instantiate five parameters and assign them as members.\n",
    "        \"\"\"\n",
    "        super().__init__()\n",
    "        self.a = torch.nn.Parameter(torch.randn(()))\n",
    "        self.b = torch.nn.Parameter(torch.randn(()))\n",
    "        self.c = torch.nn.Parameter(torch.randn(()))\n",
    "        self.d = torch.nn.Parameter(torch.randn(()))\n",
    "\n",
    "    def forward(self, x):\n",
    "        y = self.a + self.b * x + self.c * x ** 2 - self.d * x ** 3\n",
    "        return y\n",
    "\n",
    "\n",
    "\n",
    "# Create Tensors to hold input and outputs.\n",
    "x = torch.linspace(-math.pi, math.pi, 2000)\n",
    "y = torch.sin(x)\n",
    "\n",
    "# Construct our model by instantiating the class defined above\n",
    "model = DynamicNet()\n",
    "\n",
    "# Optional\n",
    "wandb.watch(model, log_freq=1, log='all')\n",
    "\n",
    "# Construct our loss function and an Optimizer. Training this strange model with\n",
    "# vanilla stochastic gradient descent is tough, so we use momentum\n",
    "criterion = torch.nn.MSELoss(reduction='sum')\n",
    "optimizer = torch.optim.SGD(model.parameters(), lr=1e-8, momentum=0.9)\n",
    "for t in range(100):\n",
    "    # Forward pass: Compute predicted y by passing x to the model\n",
    "    y_pred = model(x)\n",
    "\n",
    "    # Compute and print loss\n",
    "    loss = criterion(y_pred, y)\n",
    "    print(t, loss.item())\n",
    "    wandb.log({\"loss\": loss})\n",
    "\n",
    "    # Zero gradients, perform a backward pass, and update the weights.\n",
    "    optimizer.zero_grad()\n",
    "    loss.backward()\n",
    "    optimizer.step()\n",
    "\n",
    "wandb.finish()"
   ]
  },
  {
   "cell_type": "code",
   "execution_count": 16,
   "metadata": {},
   "outputs": [
    {
     "ename": "AttributeError",
     "evalue": "'NoneType' object has no attribute '_log'",
     "output_type": "error",
     "traceback": [
      "\u001b[0;31m---------------------------------------------------------------------------\u001b[0m",
      "\u001b[0;31mAttributeError\u001b[0m                            Traceback (most recent call last)",
      "\u001b[1;32m/home/rohan/Local/code/cplae_met/cplAE_MET/notebooks/wandb_tests.ipynb Cell 3'\u001b[0m in \u001b[0;36m<cell line: 2>\u001b[0;34m()\u001b[0m\n\u001b[1;32m      <a href='vscode-notebook-cell://ssh-remote%2Bremote_rohan/home/rohan/Local/code/cplae_met/cplAE_MET/notebooks/wandb_tests.ipynb#ch0000002vscode-remote?line=0'>1</a>\u001b[0m plt\u001b[39m.\u001b[39mplot(x\u001b[39m.\u001b[39mnumpy(),y\u001b[39m.\u001b[39mnumpy(), \u001b[39m'\u001b[39m\u001b[39mb\u001b[39m\u001b[39m'\u001b[39m)\n\u001b[0;32m----> <a href='vscode-notebook-cell://ssh-remote%2Bremote_rohan/home/rohan/Local/code/cplae_met/cplAE_MET/notebooks/wandb_tests.ipynb#ch0000002vscode-remote?line=1'>2</a>\u001b[0m plt\u001b[39m.\u001b[39mplot(x\u001b[39m.\u001b[39mnumpy(),model(x)\u001b[39m.\u001b[39mdetach()\u001b[39m.\u001b[39mnumpy(), \u001b[39m'\u001b[39m\u001b[39mr\u001b[39m\u001b[39m'\u001b[39m)\n\u001b[1;32m      <a href='vscode-notebook-cell://ssh-remote%2Bremote_rohan/home/rohan/Local/code/cplae_met/cplAE_MET/notebooks/wandb_tests.ipynb#ch0000002vscode-remote?line=2'>3</a>\u001b[0m plt\u001b[39m.\u001b[39mshow()\n",
      "File \u001b[0;32m~/miniconda3/envs/cplae_met/lib/python3.8/site-packages/torch/nn/modules/module.py:1131\u001b[0m, in \u001b[0;36mModule._call_impl\u001b[0;34m(self, *input, **kwargs)\u001b[0m\n\u001b[1;32m   <a href='file:///home/rohan/miniconda3/envs/cplae_met/lib/python3.8/site-packages/torch/nn/modules/module.py?line=1128'>1129</a>\u001b[0m \u001b[39mif\u001b[39;00m _global_forward_hooks \u001b[39mor\u001b[39;00m \u001b[39mself\u001b[39m\u001b[39m.\u001b[39m_forward_hooks:\n\u001b[1;32m   <a href='file:///home/rohan/miniconda3/envs/cplae_met/lib/python3.8/site-packages/torch/nn/modules/module.py?line=1129'>1130</a>\u001b[0m     \u001b[39mfor\u001b[39;00m hook \u001b[39min\u001b[39;00m (\u001b[39m*\u001b[39m_global_forward_hooks\u001b[39m.\u001b[39mvalues(), \u001b[39m*\u001b[39m\u001b[39mself\u001b[39m\u001b[39m.\u001b[39m_forward_hooks\u001b[39m.\u001b[39mvalues()):\n\u001b[0;32m-> <a href='file:///home/rohan/miniconda3/envs/cplae_met/lib/python3.8/site-packages/torch/nn/modules/module.py?line=1130'>1131</a>\u001b[0m         hook_result \u001b[39m=\u001b[39m hook(\u001b[39mself\u001b[39;49m, \u001b[39minput\u001b[39;49m, result)\n\u001b[1;32m   <a href='file:///home/rohan/miniconda3/envs/cplae_met/lib/python3.8/site-packages/torch/nn/modules/module.py?line=1131'>1132</a>\u001b[0m         \u001b[39mif\u001b[39;00m hook_result \u001b[39mis\u001b[39;00m \u001b[39mnot\u001b[39;00m \u001b[39mNone\u001b[39;00m:\n\u001b[1;32m   <a href='file:///home/rohan/miniconda3/envs/cplae_met/lib/python3.8/site-packages/torch/nn/modules/module.py?line=1132'>1133</a>\u001b[0m             result \u001b[39m=\u001b[39m hook_result\n",
      "File \u001b[0;32m~/miniconda3/envs/cplae_met/lib/python3.8/site-packages/wandb/wandb_torch.py:113\u001b[0m, in \u001b[0;36mTorchHistory.add_log_hooks_to_pytorch_module.<locals>.<lambda>\u001b[0;34m(mod, inp, outp)\u001b[0m\n\u001b[1;32m    <a href='file:///home/rohan/miniconda3/envs/cplae_met/lib/python3.8/site-packages/wandb/wandb_torch.py?line=108'>109</a>\u001b[0m         \u001b[39mself\u001b[39m\u001b[39m.\u001b[39mlog_tensor_stats(data\u001b[39m.\u001b[39mcpu(), \u001b[39m\"\u001b[39m\u001b[39mparameters/\u001b[39m\u001b[39m\"\u001b[39m \u001b[39m+\u001b[39m prefix \u001b[39m+\u001b[39m name)\n\u001b[1;32m    <a href='file:///home/rohan/miniconda3/envs/cplae_met/lib/python3.8/site-packages/wandb/wandb_torch.py?line=110'>111</a>\u001b[0m log_track_params \u001b[39m=\u001b[39m log_track_init(log_freq)\n\u001b[1;32m    <a href='file:///home/rohan/miniconda3/envs/cplae_met/lib/python3.8/site-packages/wandb/wandb_torch.py?line=111'>112</a>\u001b[0m hook \u001b[39m=\u001b[39m module\u001b[39m.\u001b[39mregister_forward_hook(\n\u001b[0;32m--> <a href='file:///home/rohan/miniconda3/envs/cplae_met/lib/python3.8/site-packages/wandb/wandb_torch.py?line=112'>113</a>\u001b[0m     \u001b[39mlambda\u001b[39;00m mod, inp, outp: parameter_log_hook(\n\u001b[1;32m    <a href='file:///home/rohan/miniconda3/envs/cplae_met/lib/python3.8/site-packages/wandb/wandb_torch.py?line=113'>114</a>\u001b[0m         mod, inp, outp, log_track_params\n\u001b[1;32m    <a href='file:///home/rohan/miniconda3/envs/cplae_met/lib/python3.8/site-packages/wandb/wandb_torch.py?line=114'>115</a>\u001b[0m     )\n\u001b[1;32m    <a href='file:///home/rohan/miniconda3/envs/cplae_met/lib/python3.8/site-packages/wandb/wandb_torch.py?line=115'>116</a>\u001b[0m )\n\u001b[1;32m    <a href='file:///home/rohan/miniconda3/envs/cplae_met/lib/python3.8/site-packages/wandb/wandb_torch.py?line=116'>117</a>\u001b[0m \u001b[39mself\u001b[39m\u001b[39m.\u001b[39m_hook_handles[\u001b[39m\"\u001b[39m\u001b[39mparameters/\u001b[39m\u001b[39m\"\u001b[39m \u001b[39m+\u001b[39m prefix] \u001b[39m=\u001b[39m hook\n\u001b[1;32m    <a href='file:///home/rohan/miniconda3/envs/cplae_met/lib/python3.8/site-packages/wandb/wandb_torch.py?line=117'>118</a>\u001b[0m module\u001b[39m.\u001b[39m_wandb_hook_names\u001b[39m.\u001b[39mappend(\u001b[39m\"\u001b[39m\u001b[39mparameters/\u001b[39m\u001b[39m\"\u001b[39m \u001b[39m+\u001b[39m prefix)\n",
      "File \u001b[0;32m~/miniconda3/envs/cplae_met/lib/python3.8/site-packages/wandb/wandb_torch.py:109\u001b[0m, in \u001b[0;36mTorchHistory.add_log_hooks_to_pytorch_module.<locals>.parameter_log_hook\u001b[0;34m(module, input_, output, log_track)\u001b[0m\n\u001b[1;32m    <a href='file:///home/rohan/miniconda3/envs/cplae_met/lib/python3.8/site-packages/wandb/wandb_torch.py?line=106'>107</a>\u001b[0m \u001b[39melse\u001b[39;00m:\n\u001b[1;32m    <a href='file:///home/rohan/miniconda3/envs/cplae_met/lib/python3.8/site-packages/wandb/wandb_torch.py?line=107'>108</a>\u001b[0m     data \u001b[39m=\u001b[39m parameter\n\u001b[0;32m--> <a href='file:///home/rohan/miniconda3/envs/cplae_met/lib/python3.8/site-packages/wandb/wandb_torch.py?line=108'>109</a>\u001b[0m \u001b[39mself\u001b[39;49m\u001b[39m.\u001b[39;49mlog_tensor_stats(data\u001b[39m.\u001b[39;49mcpu(), \u001b[39m\"\u001b[39;49m\u001b[39mparameters/\u001b[39;49m\u001b[39m\"\u001b[39;49m \u001b[39m+\u001b[39;49m prefix \u001b[39m+\u001b[39;49m name)\n",
      "File \u001b[0;32m~/miniconda3/envs/cplae_met/lib/python3.8/site-packages/wandb/wandb_torch.py:238\u001b[0m, in \u001b[0;36mTorchHistory.log_tensor_stats\u001b[0;34m(self, tensor, name)\u001b[0m\n\u001b[1;32m    <a href='file:///home/rohan/miniconda3/envs/cplae_met/lib/python3.8/site-packages/wandb/wandb_torch.py?line=234'>235</a>\u001b[0m     tensor \u001b[39m=\u001b[39m torch\u001b[39m.\u001b[39mTensor(tensor_np)\n\u001b[1;32m    <a href='file:///home/rohan/miniconda3/envs/cplae_met/lib/python3.8/site-packages/wandb/wandb_torch.py?line=235'>236</a>\u001b[0m     bins \u001b[39m=\u001b[39m torch\u001b[39m.\u001b[39mTensor(bins_np)\n\u001b[0;32m--> <a href='file:///home/rohan/miniconda3/envs/cplae_met/lib/python3.8/site-packages/wandb/wandb_torch.py?line=237'>238</a>\u001b[0m wandb\u001b[39m.\u001b[39;49mrun\u001b[39m.\u001b[39;49m_log(\n\u001b[1;32m    <a href='file:///home/rohan/miniconda3/envs/cplae_met/lib/python3.8/site-packages/wandb/wandb_torch.py?line=238'>239</a>\u001b[0m     {name: wandb\u001b[39m.\u001b[39mHistogram(np_histogram\u001b[39m=\u001b[39m(tensor\u001b[39m.\u001b[39mtolist(), bins\u001b[39m.\u001b[39mtolist()))},\n\u001b[1;32m    <a href='file:///home/rohan/miniconda3/envs/cplae_met/lib/python3.8/site-packages/wandb/wandb_torch.py?line=239'>240</a>\u001b[0m     commit\u001b[39m=\u001b[39m\u001b[39mFalse\u001b[39;00m,\n\u001b[1;32m    <a href='file:///home/rohan/miniconda3/envs/cplae_met/lib/python3.8/site-packages/wandb/wandb_torch.py?line=240'>241</a>\u001b[0m )\n",
      "\u001b[0;31mAttributeError\u001b[0m: 'NoneType' object has no attribute '_log'"
     ]
    },
    {
     "data": {
      "image/png": "[encoded data removed]",
      "text/plain": [
       "<Figure size 432x288 with 1 Axes>"
      ]
     },
     "metadata": {},
     "output_type": "display_data"
    }
   ],
   "source": [
    "plt.plot(x.numpy(),y.numpy(), 'b')\n",
    "plt.plot(x.numpy(),model(x).detach().numpy(), 'r')\n",
    "plt.show()"
   ]
  },
  {
   "cell_type": "code",
   "execution_count": 19,
   "metadata": {},
   "outputs": [
    {
     "data": {
      "text/plain": [
       "__main__.DynamicNet"
      ]
     },
     "execution_count": 19,
     "metadata": {},
     "output_type": "execute_result"
    }
   ],
   "source": [
    "type(model)"
   ]
  },
  {
   "cell_type": "code",
   "execution_count": null,
   "metadata": {},
   "outputs": [],
   "source": []
  }
 ],
 "metadata": {
  "interpreter": {
   "hash": "9eadf17778d5143981a8a97fb2a6eb547b72cd99abcb4b2b10d89b852fee26ae"
  },
  "kernelspec": {
   "display_name": "Python 3.8.0 ('cplae_met')",
   "language": "python",
   "name": "python3"
  },
  "language_info": {
   "codemirror_mode": {
    "name": "ipython",
    "version": 3
   },
   "file_extension": ".py",
   "mimetype": "text/x-python",
   "name": "python",
   "nbconvert_exporter": "python",
   "pygments_lexer": "ipython3",
   "version": "3.8.0"
  },
  "orig_nbformat": 4
 },
 "nbformat": 4,
 "nbformat_minor": 2
}
