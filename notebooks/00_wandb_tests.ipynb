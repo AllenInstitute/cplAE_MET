{
 "cells": [
  {
   "cell_type": "code",
   "execution_count": 1,
   "metadata": {},
   "outputs": [],
   "source": [
    "#Restart abd update server: wandb server start --upgrade\n",
    "#API key can be found at: http://localhost:8080/authorize\n",
    "\n",
    "import wandb\n",
    "import torch\n",
    "import math\n",
    "from cplAE_MET.utils.load_config import load_config\n",
    "import matplotlib.pyplot as plt\n",
    "import seaborn as sns\n",
    "sns.set()"
   ]
  },
  {
   "cell_type": "code",
   "execution_count": 2,
   "metadata": {},
   "outputs": [
    {
     "name": "stderr",
     "output_type": "stream",
     "text": [
      "Failed to detect the name of this notebook, you can set it manually with the WANDB_NOTEBOOK_NAME environment variable to enable code saving.\n",
      "\u001b[34m\u001b[1mwandb\u001b[0m: Currently logged in as: \u001b[33mrhngla\u001b[0m. Use \u001b[1m`wandb login --relogin`\u001b[0m to force relogin\n"
     ]
    },
    {
     "data": {
      "text/html": [
       "Tracking run with wandb version 0.12.19"
      ],
      "text/plain": [
       "<IPython.core.display.HTML object>"
      ]
     },
     "metadata": {},
     "output_type": "display_data"
    },
    {
     "data": {
      "text/html": [
       "Run data is saved locally in <code>../wandb/run-20220622_145531-2wt3kve8</code>"
      ],
      "text/plain": [
       "<IPython.core.display.HTML object>"
      ]
     },
     "metadata": {},
     "output_type": "display_data"
    },
    {
     "data": {
      "text/html": [
       "Syncing run <strong><a href=\"http://localhost:8080/rhngla/tutorials/runs/2wt3kve8\" target=\"_blank\">vibrant-pond-1</a></strong> to <a href=\"http://localhost:8080/rhngla/tutorials\" target=\"_blank\">Weights & Biases</a> (<a href=\"https://wandb.me/run\" target=\"_blank\">docs</a>)<br/>"
      ],
      "text/plain": [
       "<IPython.core.display.HTML object>"
      ]
     },
     "metadata": {},
     "output_type": "display_data"
    }
   ],
   "source": [
    "paths = load_config('config.toml')\n",
    "wandb.init(project=\"tutorials\",\n",
    "           dir='../',\n",
    "           group='simple',\n",
    "           entity=\"rhngla\")\n",
    "config = {\"learning_rate\": 0.001, \"epochs\": 100, \"batch_size\": 128}\n",
    "wandb.config = config"
   ]
  },
  {
   "cell_type": "code",
   "execution_count": 3,
   "metadata": {},
   "outputs": [
    {
     "name": "stdout",
     "output_type": "stream",
     "text": [
      "0 534820.9375\n",
      "1 529629.875\n",
      "2 519873.84375\n",
      "3 506202.0625\n",
      "4 489264.03125\n",
      "5 469691.8125\n",
      "6 448086.03125\n",
      "7 425006.125\n",
      "8 400962.96875\n",
      "9 376414.9375\n",
      "10 351765.34375\n",
      "11 327362.6875\n",
      "12 303501.25\n",
      "13 280423.65625\n",
      "14 258323.953125\n",
      "15 237351.34375\n",
      "16 217614.09375\n",
      "17 199184.109375\n",
      "18 182101.125\n",
      "19 166377.15625\n",
      "20 152000.640625\n",
      "21 138940.46875\n",
      "22 127149.6640625\n",
      "23 116568.796875\n",
      "24 107129.0859375\n",
      "25 98755.203125\n",
      "26 91367.578125\n",
      "27 84884.625\n",
      "28 79224.4453125\n",
      "29 74306.296875\n",
      "30 70051.90625\n",
      "31 66386.25\n",
      "32 63238.4453125\n",
      "33 60542.2109375\n",
      "34 58236.203125\n",
      "35 56264.23046875\n",
      "36 54575.29296875\n",
      "37 53123.578125\n",
      "38 51868.3203125\n",
      "39 50773.55859375\n",
      "40 49807.9453125\n",
      "41 48944.390625\n",
      "42 48159.78515625\n",
      "43 47434.625\n",
      "44 46752.71484375\n",
      "45 46100.78125\n",
      "46 45468.1875\n",
      "47 44846.5625\n",
      "48 44229.52734375\n",
      "49 43612.41015625\n",
      "50 42991.96875\n",
      "51 42366.17578125\n",
      "52 41733.98046875\n",
      "53 41095.11328125\n",
      "54 40449.94140625\n",
      "55 39799.296875\n",
      "56 39144.3359375\n",
      "57 38486.46484375\n",
      "58 37827.21484375\n",
      "59 37168.19921875\n",
      "60 36511.015625\n",
      "61 35857.20703125\n",
      "62 35208.2578125\n",
      "63 34565.515625\n",
      "64 33930.19921875\n",
      "65 33303.40625\n",
      "66 32686.072265625\n",
      "67 32078.974609375\n",
      "68 31482.76171875\n",
      "69 30897.923828125\n",
      "70 30324.8359375\n",
      "71 29763.75390625\n",
      "72 29214.81640625\n",
      "73 28678.0625\n",
      "74 28153.45703125\n",
      "75 27640.8828125\n",
      "76 27140.15625\n",
      "77 26651.05859375\n",
      "78 26173.310546875\n",
      "79 25706.623046875\n",
      "80 25250.662109375\n",
      "81 24805.095703125\n",
      "82 24369.5703125\n",
      "83 23943.736328125\n",
      "84 23527.244140625\n",
      "85 23119.748046875\n",
      "86 22720.91015625\n",
      "87 22330.412109375\n",
      "88 21947.935546875\n",
      "89 21573.193359375\n",
      "90 21205.89453125\n",
      "91 20845.77734375\n",
      "92 20492.59765625\n",
      "93 20146.1171875\n",
      "94 19806.125\n",
      "95 19472.4140625\n",
      "96 19144.798828125\n",
      "97 18823.107421875\n",
      "98 18507.173828125\n",
      "99 18196.8515625\n"
     ]
    }
   ],
   "source": [
    "class DynamicNet(torch.nn.Module):\n",
    "    def __init__(self):\n",
    "        \"\"\"\n",
    "        In the constructor we instantiate five parameters and assign them as members.\n",
    "        \"\"\"\n",
    "        super().__init__()\n",
    "        self.a = torch.nn.Parameter(torch.randn(()))\n",
    "        self.b = torch.nn.Parameter(torch.randn(()))\n",
    "        self.c = torch.nn.Parameter(torch.randn(()))\n",
    "        self.d = torch.nn.Parameter(torch.randn(()))\n",
    "\n",
    "    def forward(self, x):\n",
    "        y = self.a + self.b * x + self.c * x ** 2 - self.d * x ** 3\n",
    "        return y\n",
    "\n",
    "# Create Tensors to hold input and outputs.\n",
    "x = torch.linspace(-math.pi, math.pi, 2000)\n",
    "y = torch.sin(x)\n",
    "\n",
    "# Construct our model by instantiating the class defined above\n",
    "model = DynamicNet()\n",
    "\n",
    "# Optional\n",
    "wandb.watch(model, log_freq=1, log='all')\n",
    "\n",
    "# Construct our loss function and an Optimizer. Training this strange model with\n",
    "# vanilla stochastic gradient descent is tough, so we use momentum\n",
    "criterion = torch.nn.MSELoss(reduction='sum')\n",
    "optimizer = torch.optim.SGD(model.parameters(), lr=1e-8, momentum=0.9)\n",
    "for t in range(100):\n",
    "    # Forward pass: Compute predicted y by passing x to the model\n",
    "    y_pred = model(x)\n",
    "\n",
    "    # Compute and print loss\n",
    "    loss = criterion(y_pred, y)\n",
    "    print(t, loss.item())\n",
    "    wandb.log({\"loss\": loss})\n",
    "\n",
    "    # Zero gradients, perform a backward pass, and update the weights.\n",
    "    optimizer.zero_grad()\n",
    "    loss.backward()\n",
    "    optimizer.step()"
   ]
  },
  {
   "cell_type": "code",
   "execution_count": 4,
   "metadata": {},
   "outputs": [
    {
     "data": {
      "image/png": "[encoded data removed]",
      "text/plain": [
       "<Figure size 432x288 with 1 Axes>"
      ]
     },
     "metadata": {
      "needs_background": "light"
     },
     "output_type": "display_data"
    }
   ],
   "source": [
    "plt.plot(x.numpy(),y.numpy(), 'b')\n",
    "plt.plot(x.numpy(),model(x).detach().numpy(), 'r')\n",
    "plt.show()"
   ]
  }
 ],
 "metadata": {
  "interpreter": {
   "hash": "9eadf17778d5143981a8a97fb2a6eb547b72cd99abcb4b2b10d89b852fee26ae"
  },
  "kernelspec": {
   "display_name": "Python 3.8.0 ('cplae_met')",
   "language": "python",
   "name": "python3"
  },
  "language_info": {
   "codemirror_mode": {
    "name": "ipython",
    "version": 3
   },
   "file_extension": ".py",
   "mimetype": "text/x-python",
   "name": "python",
   "nbconvert_exporter": "python",
   "pygments_lexer": "ipython3",
   "version": "3.8.0"
  },
  "orig_nbformat": 4
 },
 "nbformat": 4,
 "nbformat_minor": 2
}
