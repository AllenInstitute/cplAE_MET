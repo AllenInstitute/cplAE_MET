{
 "cells": [
  {
   "cell_type": "markdown",
   "id": "fc67177e-400e-4a6c-81b3-1aafbb13e774",
   "metadata": {},
   "source": [
    "## Goals"
   ]
  },
  {
   "cell_type": "markdown",
   "id": "27bd570d-c0c6-414f-a359-7a578d37d5da",
   "metadata": {},
   "source": [
    "1. Demonstrate advantages of incoporating morpohological modality into a coupled-AE model\n",
    "    1. Improvements to T-E cross-modal performance\n",
    "    2. Improvements to cross-modal reconstruction over alternative methods\n",
    "2. Demonstrate advantage of augmenting multimodal data with unimodal data\n",
    "    1. Demonstrate this for within-platform augmentation\n",
    "    2. Demonstrate this for cross-platform augmentation (more difficult)"
   ]
  },
  {
   "cell_type": "markdown",
   "id": "9ecd55f3-ea75-4e35-97ad-850e610f8de6",
   "metadata": {},
   "source": [
    "## Incorporation of Morphology Modality"
   ]
  },
  {
   "cell_type": "markdown",
   "id": "0bbbc91a-4be0-477d-848c-154c88c74f51",
   "metadata": {},
   "source": [
    "### Does adding morphology improve the other modalities?"
   ]
  },
  {
   "cell_type": "markdown",
   "id": "da975bb5-5319-4deb-ab08-59b848232545",
   "metadata": {},
   "source": [
    "Comparison of the within-modality and cross-modality reconstruction performance for coupled-VAE models trained on Patch-seq data. Looking for evidence of improvement for the transcriptomic and electro-physiological modalities."
   ]
  },
  {
   "cell_type": "markdown",
   "id": "8989f990-020c-498d-ac34-042bd3ee7b7a",
   "metadata": {},
   "source": [
    "<img src=\"summary_figures/Patch-seq_r2.png\" width=\"75%\"/>"
   ]
  },
  {
   "cell_type": "markdown",
   "id": "158813d8-81cb-4e98-bd72-455f96487d88",
   "metadata": {},
   "source": [
    "By comparing the scores for the bimodal models versus the trimodal model, we can assess if the presence of a third modality improves the performance of the two other modalities. Unfortunately we do not see any evidence of this, with all cross-modal reconstruction scores being nearly identical. The trimodal model (incoporating transcriptomics) does show improvement over the E-M model for within-modality electro-physiological reconstruction, but worse peformance for morphological reconstruction. In any case, addition of the morphology modality does not show improvement over a T-E bimodal model."
   ]
  },
  {
   "cell_type": "markdown",
   "id": "508228b2-19ae-4477-a785-9483bfaaa23b",
   "metadata": {},
   "source": [
    "### Is there value in a coupled-VAE approach for morphological data?"
   ]
  },
  {
   "cell_type": "markdown",
   "id": "2b873401-e0ad-4b77-a436-b7bbb4973b6b",
   "metadata": {},
   "source": [
    "Comparison of reconstructions for morphological data (either and input or output) from the coupled-VAE model versus pairwise models trained for direct inference between modalities."
   ]
  },
  {
   "cell_type": "markdown",
   "id": "86129304-62d0-47b3-8333-50bf396e15b1",
   "metadata": {},
   "source": [
    "<img src=\"summary_figures/direct_regression.png\" width=\"75%\"/>"
   ]
  },
  {
   "cell_type": "markdown",
   "id": "97f1af5c-456a-4fa1-81c4-aa0448860cda",
   "metadata": {},
   "source": [
    "## Incorporating Unimodal Data"
   ]
  },
  {
   "cell_type": "markdown",
   "id": "985fdc84-df5c-4551-840f-2b08ff2a03c6",
   "metadata": {},
   "source": [
    "### Does adding within-platform unimodal data improve the coupled-VAE performance?"
   ]
  },
  {
   "cell_type": "markdown",
   "id": "d40837e5-2db0-434b-aa48-ec979c9feeb8",
   "metadata": {},
   "source": [
    "### Does adding cross-platform unimodal data improve the coupled-VAE performance?"
   ]
  },
  {
   "cell_type": "markdown",
   "id": "14b46e8f-b069-4f9d-b62e-7af879875f70",
   "metadata": {},
   "source": [
    "Comparison of MET model performance on Patch-seq data when trained only on Patch-seq data versus including EM or Smart-seq unimodal data."
   ]
  },
  {
   "cell_type": "markdown",
   "id": "adc9cfa8-5e21-486b-b649-6c55ca46ed79",
   "metadata": {},
   "source": [
    "<img src=\"summary_figures/latent_dim_r2.png\" width=\"95%\"/>"
   ]
  },
  {
   "cell_type": "code",
   "execution_count": null,
   "id": "5aad31e5-f12a-40a5-b3c7-be3a301932b1",
   "metadata": {},
   "outputs": [],
   "source": []
  }
 ],
 "metadata": {
  "kernelspec": {
   "display_name": "Python 3 (ipykernel)",
   "language": "python",
   "name": "python3"
  },
  "language_info": {
   "codemirror_mode": {
    "name": "ipython",
    "version": 3
   },
   "file_extension": ".py",
   "mimetype": "text/x-python",
   "name": "python",
   "nbconvert_exporter": "python",
   "pygments_lexer": "ipython3",
   "version": "3.8.18"
  }
 },
 "nbformat": 4,
 "nbformat_minor": 5
}
