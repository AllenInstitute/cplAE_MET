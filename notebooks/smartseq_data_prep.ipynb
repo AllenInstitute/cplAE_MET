{
 "cells": [
  {
   "cell_type": "markdown",
   "metadata": {},
   "source": [
    "Adapted from [MMIDAS repo](https://github.com/AllenInstitute/MMIDAS/blob/main/notebooks/smartseq_data_prep.ipynb)."
   ]
  },
  {
   "cell_type": "markdown",
   "metadata": {},
   "source": [
    "### Preparing the data\n",
    "In this notebook, we demonstrate how to prepare the Mouse Smart-seq dataset, which is a single-cell dataset was released as part of a transcriptomic cell types study in [Tasic et al., 2018](https://portal.brain-map.org/atlases-and-data/rnaseq/mouse-v1-and-alm-smart-seq). The dataset includes RNA sequencing of neurons from the anterolateral motor cortex (ALM) and primary visual cortex (VISp) regions of adult mice using Smart-seq (SSv4) platform. "
   ]
  },
  {
   "cell_type": "code",
   "execution_count": 269,
   "metadata": {},
   "outputs": [],
   "source": [
    "import pathlib\n",
    "\n",
    "import pandas as pd\n",
    "import numpy as np\n",
    "import anndata as ad\n",
    "from scipy.sparse import csr_matrix\n",
    "import scipy.io as sio\n",
    "from sklearn.preprocessing import normalize\n",
    "from cplAE_MET.utils.analysis_tree_helpers import HTree, get_merged_types"
   ]
  },
  {
   "cell_type": "markdown",
   "metadata": {},
   "source": [
    "Download ```zip``` files and locate them within the ```data``` folder. "
   ]
  },
  {
   "cell_type": "code",
   "execution_count": 18,
   "metadata": {},
   "outputs": [],
   "source": [
    "# toml_file = 'pyproject.toml'\n",
    "# sub_file = 'smartseq_files'\n",
    "# config = get_paths(toml_file=toml_file, sub_file=sub_file)\n",
    "# data_path = config['paths']['main_dir'] / config['paths']['data_path']\n",
    "\n",
    "data_path = pathlib.Path(\"../data/raw/mouse_VISp_gene_expression_matrices_2018-06-14\")"
   ]
  },
  {
   "cell_type": "code",
   "execution_count": 13,
   "metadata": {},
   "outputs": [
    {
     "name": "stdout",
     "output_type": "stream",
     "text": [
      "Total number of cells in VISp and ALM: 15413\n"
     ]
    }
   ],
   "source": [
    "# Load the mouse Smart-seq VISp data\n",
    "data_VISp_exon = data_path / 'mouse_VISp_2018-06-14_exon-matrix.csv'\n",
    "anno_VISp = data_path / 'mouse_VISp_2018-06-14_samples-columns.csv'\n",
    "df_vis_exon = pd.read_csv(data_VISp_exon)\n",
    "df_vis_anno = pd.read_csv(anno_VISp, encoding='unicode_escape')\n",
    "\n",
    "# # Load the mouse Smart-seq ALM data\n",
    "# data_ALM_exon = data_path / 'mouse_ALM_2018-06-14_exon-matrix.csv'\n",
    "# anno_ALM = data_path / 'mouse_ALM_2018-06-14_samples-columns.csv'\n",
    "# df_alm_exon = pd.read_csv(data_ALM_exon)\n",
    "# df_alm_anno = pd.read_csv(anno_ALM, encoding='unicode_escape')\n",
    "\n",
    "# print(f'Total number of cells in VISp and ALM: {len(df_vis_anno)}, {len(df_alm_anno)}')\n",
    "print(f'Total number of cells in VISp and ALM: {len(df_vis_anno)}')"
   ]
  },
  {
   "cell_type": "code",
   "execution_count": 17,
   "metadata": {},
   "outputs": [
    {
     "name": "stdout",
     "output_type": "stream",
     "text": [
      "[30890.15859407 34090.13980254 35085.63428565 ... 25374.21782027\n",
      " 29123.50220171 25566.69549158]\n"
     ]
    }
   ],
   "source": [
    "# Get the neuronal cells across brain regions\n",
    "vis_neuron = df_vis_anno['class'].isin(['GABAergic', 'Glutamatergic'])\n",
    "# alm_neuron = df_alm_anno['class'].isin(['GABAergic', 'Glutamatergic'])\n",
    "vis_counts = df_vis_exon.values[:, 1:][:, vis_neuron].T\n",
    "# alm_counts = df_alm_exon.values[:, 1:][:, alm_neuron].T\n",
    "\n",
    "# df_anno_ = pd.concat([df_vis_anno[vis_neuron], df_alm_anno[alm_neuron]], ignore_index=True)\n",
    "# total_count = np.concatenate((vis_counts, alm_counts), axis=0)\n",
    "\n",
    "df_anno_ = df_vis_anno[vis_neuron]\n",
    "total_count = vis_counts\n",
    "\n",
    "# Normalized counts values using LogCPM\n",
    "# logCPM = logcpm(x=total_count, scaler=1e6)\n",
    "logCPM = np.log1p(normalize(total_count, axis=1, norm='l1') * 1e6)\n",
    "print(np.sum(logCPM, axis=1))"
   ]
  },
  {
   "cell_type": "code",
   "execution_count": 174,
   "metadata": {},
   "outputs": [],
   "source": [
    "ref_genes_df = pd.read_csv(\"../data/raw/mouse_VISp_gene_expression_matrices_2018-06-14/mouse_VISp_2018-06-14_genes-rows.csv\")\n",
    "gene_df = pd.read_csv(\"../data/raw/good_genes_beta_score.csv\")\n",
    "genes = gene_df[gene_df[\"BetaScore\"] > 0.4][\"Gene\"].values"
   ]
  },
  {
   "cell_type": "code",
   "execution_count": 175,
   "metadata": {},
   "outputs": [],
   "source": [
    "gene_indx = [np.where(ref_genes_df.gene_symbol.values == gg)[0][0] for gg in genes]\n",
    "log1p = logCPM[:, gene_indx]\n",
    "# remove low quality cells and CR and Meis2 subclasses\n",
    "mask = (df_anno_['cluster']!='Low Quality') & (df_anno_['cluster']!='CR Lhx5') & (df_anno_['cluster']!='Meis2 Adamts19')\n",
    "df_anno_temp = df_anno_[mask].reset_index() \n",
    "log1p = log1p[mask, :]"
   ]
  },
  {
   "cell_type": "markdown",
   "metadata": {},
   "source": [
    "Build an AnnData object for the dataloader. "
   ]
  },
  {
   "cell_type": "code",
   "execution_count": 270,
   "metadata": {},
   "outputs": [],
   "source": [
    "# load the tree.csv to obtain colors for t-types on the taxonomies\n",
    "htree_file = pathlib.Path(\"../data/raw/mouse_VISp_gene_expression_matrices_2018-06-14/tree_Mouse_ALM-VISp_2018.csv\")\n",
    "treeObj = HTree(htree_file=htree_file)\n",
    "ttypes = treeObj.child[treeObj.isleaf]\n",
    "colors = treeObj.col[treeObj.isleaf]\n",
    "df_anno = df_anno_temp.copy() #df_anno_temp.rename(columns={\"seq_name\": \"sample_id\", \"class\": \"class_label\"})\n",
    "\n",
    "# rename two cell types according to the taxonomy\n",
    "df_anno.loc[df_anno['cluster'] == 'L6b VISp Col8a1 Rprm', 'cluster'] = 'L6b Col8a1 Rprm'\n",
    "df_anno.loc[df_anno['cluster'] == 'L6 CT ALM Nxph2 Sla', 'cluster'] = 'L6 CT Nxph2 Sla'\n",
    "\n",
    "df_anno['cluster_color'] = np.array([colors[0]]*len(df_anno['cluster']))\n",
    "for cluster in df_anno.cluster.unique():\n",
    "    df_anno.loc[df_anno['cluster'] == cluster, 'cluster_color'] = colors[ttypes == cluster][0]\n",
    "\n",
    "df_anno['cluster'] = np.array([c.strip() for c in df_anno['cluster']])\n",
    "\n",
    "for nc in [40,50,60,70,80,90]:\n",
    "    name = \"merged_types_\" + str(nc)\n",
    "    merged_t, _, _ = get_merged_types(htree_file=htree_file,  \n",
    "                                        cells_labels=df_anno[\"cluster\"].to_numpy(copy = True), \n",
    "                                        num_classes=nc,\n",
    "                                        ref_leaf=np.unique(df_anno[\"cluster\"].to_numpy(copy = True)),\n",
    "                                        node=\"n1\")\n",
    "    df_anno[f\"merged_cluster_label_at{nc}\"] = merged_t"
   ]
  },
  {
   "cell_type": "code",
   "execution_count": 180,
   "metadata": {
    "scrolled": true
   },
   "outputs": [
    {
     "name": "stderr",
     "output_type": "stream",
     "text": [
      "/Users/ian.convy/miniconda3/envs/cpl/lib/python3.8/site-packages/anndata/_core/anndata.py:121: ImplicitModificationWarning: Transforming to str index.\n",
      "  warnings.warn(\"Transforming to str index.\", ImplicitModificationWarning)\n",
      "/Users/ian.convy/miniconda3/envs/cpl/lib/python3.8/site-packages/anndata/_core/anndata.py:864: UserWarning: \n",
      "AnnData expects .obs.index to contain strings, but got values like:\n",
      "    [527128530, 527128536, 527128542, 527128548, 527128554]\n",
      "\n",
      "    Inferred to be: integer\n",
      "\n",
      "  names = self._prep_dim_index(names, \"obs\")\n"
     ]
    }
   ],
   "source": [
    "# save data as AnnData object\n",
    "sub_df = df_anno[['sample_name', 'sample_id', 'seq_batch', 'sex', 'brain_hemisphere', 'brain_region', \n",
    "                  'brain_subregion', 'class', 'subclass', 'cluster', 'cluster_color', 'confusion_score',\n",
    "                 ] + [f\"merged_cluster_label_at{nc}\" for nc in [40,50,60,70,80,90]]]\n",
    "adata = ad.AnnData(X=csr_matrix(log1p), obs=sub_df)\n",
    "adata.var_names = genes\n",
    "adata.obs_names = sub_df.sample_id.values   \n",
    "adata.write_h5ad(\"../data/raw/smartseq_VISp_Tasic_2018\")"
   ]
  },
  {
   "cell_type": "code",
   "execution_count": 133,
   "metadata": {},
   "outputs": [],
   "source": [
    "met = sio.loadmat(\"../data/raw/MET_M120x4_50k_4Apr23.mat\")"
   ]
  },
  {
   "cell_type": "code",
   "execution_count": 231,
   "metadata": {},
   "outputs": [],
   "source": [
    "df_mat = df_anno.copy()\n",
    "df_mat[\"specimen_id\"] = \"SEQ_\" + df_anno[\"sample_id\"].astype(\"string\")\n",
    "df_mat[\"class\"] = df_mat[\"class\"].map({\"GABAergic\": \"inh\", \"Glutamatergic\": \"exc\"})\n",
    "df_mat[\"class_id\"] = df_mat[\"class\"].map({\"exc\": 0, \"inh\": 1})\n",
    "df_mat[\"cluster_label\"] = df_mat[\"cluster\"]\n",
    "df_mat[\"platform\"] = \"smartseq\""
   ]
  },
  {
   "cell_type": "code",
   "execution_count": 264,
   "metadata": {},
   "outputs": [
    {
     "name": "stdout",
     "output_type": "stream",
     "text": [
      "'E_dat' is missing.\n",
      "'M_dat' is missing.\n",
      "'soma_depth' is missing.\n",
      "'hist_ax_de_api_bas' is missing.\n",
      "'group' is missing.\n",
      "'subgroup' is missing.\n",
      "'cluster_id' is missing.\n"
     ]
    }
   ],
   "source": [
    "new_met = {}\n",
    "new_met[\"T_dat\"] = np.concatenate([met[\"T_dat\"], log1p])\n",
    "for (key, array) in met.items():\n",
    "    array = np.squeeze(array)\n",
    "    if \"__\" not in key and key not in {\"T_dat\", \"gene_ids\", \"E_features\", \"M_features\"}:\n",
    "        if key not in df_mat.columns:\n",
    "            seq_array = np.full((len(df_mat),) + array.shape[1:], np.nan)\n",
    "            print(f\"'{key}' is missing.\")\n",
    "        else:\n",
    "            seq_array = df_mat[key].to_numpy()\n",
    "        new_array = np.concatenate([array, seq_array])\n",
    "        if new_array.dtype == object:\n",
    "            new_array = new_array.astype(\"str\")\n",
    "        new_met[key] = new_array\n",
    "new_met[\"gene_ids\"] = met[\"gene_ids\"]\n",
    "new_met[\"E_features\"] = met[\"E_features\"]\n",
    "new_met[\"M_features\"] = met[\"M_features\"]"
   ]
  },
  {
   "cell_type": "code",
   "execution_count": 268,
   "metadata": {},
   "outputs": [],
   "source": [
    "sio.savemat(\"../data/raw/MET_M120x4_50k_4Apr23_wTasic.mat\", new_met)"
   ]
  }
 ],
 "metadata": {
  "kernelspec": {
   "display_name": "Python 3 (ipykernel)",
   "language": "python",
   "name": "python3"
  },
  "language_info": {
   "codemirror_mode": {
    "name": "ipython",
    "version": 3
   },
   "file_extension": ".py",
   "mimetype": "text/x-python",
   "name": "python",
   "nbconvert_exporter": "python",
   "pygments_lexer": "ipython3",
   "version": "3.8.18"
  }
 },
 "nbformat": 4,
 "nbformat_minor": 4
}
