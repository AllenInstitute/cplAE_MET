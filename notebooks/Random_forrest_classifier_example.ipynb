{
 "cells": [
  {
   "cell_type": "code",
   "execution_count": 37,
   "metadata": {},
   "outputs": [],
   "source": [
    "import numpy as np\n",
    "import scipy.io as sio\n",
    "from sklearn.ensemble import RandomForestClassifier\n",
    "from sklearn.model_selection import train_test_split\n",
    "from sklearn.metrics import accuracy_score\n",
    "\n",
    "from cplAE_MET.utils.analysis_helpers import load_exp_output\n",
    "from cplAE_MET.utils.utils import  get_all_1d_mask\n",
    "from collections import Counter\n",
    "from sklearn.model_selection import KFold\n",
    "\n",
    "import pandas as pd"
   ]
  },
  {
   "cell_type": "code",
   "execution_count": 8,
   "metadata": {},
   "outputs": [
    {
     "data": {
      "text/plain": [
       "dict_keys(['XT', 'XM', 'XE', 'XrT', 'XrE', 'XrM', 'XrM_me_paired', 'XrE_me_paired', 'rec_arbor_density', 'zm', 'ze', 'zt', 'zme_paired', 'is_t_1d', 'is_e_1d', 'is_m_1d', 'cluster_id', 'gene_ids', 'e_features', 'specimen_id', 'cluster_label', 'merged_cluster_label_at40', 'merged_cluster_label_at50', 'merged_cluster_label_at60', 'cluster_color', 'platform', 'class', 'class_id', 'group', 'subgroup', 'hist_ax_de_api_bas', 'M_nmf_total_vars_ax', 'M_nmf_total_vars_de', 'M_nmf_total_vars_api', 'M_nmf_total_vars_bas', 'M_nmf_components_ax', 'M_nmf_components_de', 'M_nmf_components_api', 'M_nmf_components_bas', 'train_ind', 'val_ind'])"
      ]
     },
     "execution_count": 8,
     "metadata": {},
     "output_type": "execute_result"
    }
   ],
   "source": [
    "output = load_exp_output(exp_name=\"MET_10k_sratified_50met\", pkl_file=\"Results_trial_144.pkl\")\n",
    "output.keys()"
   ]
  },
  {
   "cell_type": "code",
   "execution_count": 9,
   "metadata": {},
   "outputs": [
    {
     "data": {
      "text/plain": [
       "dict_keys(['is_t_1d', 'is_e_1d', 'is_m_1d', 'is_me_1d', 'is_te_1d', 'is_tm_1d', 'is_met_1d', 'is_t_only_1d', 'is_e_only_1d', 'is_m_only_1d', 'is_te_only_1d', 'is_tm_only_1d', 'is_me_only_1d', 'is_patchseq_1d', 'is_fMOST_1d', 'is_ME_1d', 'is_EM_1d'])"
      ]
     },
     "execution_count": 9,
     "metadata": {},
     "output_type": "execute_result"
    }
   ],
   "source": [
    "masks=get_all_1d_mask(output)\n",
    "masks.keys()"
   ]
  },
  {
   "cell_type": "code",
   "execution_count": 44,
   "metadata": {},
   "outputs": [
    {
     "name": "stdout",
     "output_type": "stream",
     "text": [
      "  t_clusters mt_class_acc mt_class_acc_std\n",
      "9         93        36.86             2.37\n",
      "  t_clusters mt_class_acc mt_class_acc_std\n",
      "9         59        53.23             2.95\n",
      "  t_clusters mt_class_acc mt_class_acc_std\n",
      "9         50        58.58             2.15\n"
     ]
    }
   ],
   "source": [
    "df = pd.DataFrame(columns=[\"t_clusters\", \"mt_class_acc\", \"mt_class_acc_std\"])\n",
    "\n",
    "for i, level in enumerate([\"cluster_label\", \"merged_cluster_label_at40\", \"merged_cluster_label_at50\"]):\n",
    "    X = output['XM'][masks['is_tm_1d']]\n",
    "    y = np.array([i.rstrip() for i in output[level][masks['is_tm_1d']]])\n",
    "    n_types = len(Counter(np.array([i.rstrip() for i in output[level][masks['is_t_1d']]])))\n",
    "\n",
    "    kf = KFold(n_splits=10, random_state=None, shuffle=False)\n",
    "    acc = []\n",
    "    for i, (train_index, test_index) in enumerate(kf.split(X)):\n",
    "        X_train = X[train_index]\n",
    "        y_train = y[train_index]\n",
    "        X_test = X[test_index]\n",
    "        y_test = y[test_index]\n",
    "\n",
    "        rf = RandomForestClassifier()\n",
    "        rf.fit(X_train, y_train)\n",
    "        y_pred = rf.predict(X_test)\n",
    "        acc.append(accuracy_score(y_test, y_pred))\n",
    "\n",
    "    df.loc[i, \"t_clusters\"] = n_types\n",
    "    df.loc[i, \"mt_class_acc\"] = \"{:.2f}\".format(np.mean(acc)*100)\n",
    "    df.loc[i, \"mt_class_acc_std\"] = \"{:.2f}\".format(np.std(acc)*100)\n",
    "    print(df)"
   ]
  },
  {
   "cell_type": "code",
   "execution_count": 43,
   "metadata": {},
   "outputs": [
    {
     "data": {
      "text/html": [
       "<div>\n",
       "<style scoped>\n",
       "    .dataframe tbody tr th:only-of-type {\n",
       "        vertical-align: middle;\n",
       "    }\n",
       "\n",
       "    .dataframe tbody tr th {\n",
       "        vertical-align: top;\n",
       "    }\n",
       "\n",
       "    .dataframe thead th {\n",
       "        text-align: right;\n",
       "    }\n",
       "</style>\n",
       "<table border=\"1\" class=\"dataframe\">\n",
       "  <thead>\n",
       "    <tr style=\"text-align: right;\">\n",
       "      <th></th>\n",
       "      <th>t_clusters</th>\n",
       "      <th>mt_class_acc</th>\n",
       "      <th>mt_class_acc_std</th>\n",
       "    </tr>\n",
       "  </thead>\n",
       "  <tbody>\n",
       "    <tr>\n",
       "      <th>9</th>\n",
       "      <td>50</td>\n",
       "      <td>57.66</td>\n",
       "      <td>2.92</td>\n",
       "    </tr>\n",
       "  </tbody>\n",
       "</table>\n",
       "</div>"
      ],
      "text/plain": [
       "  t_clusters mt_class_acc mt_class_acc_std\n",
       "9         50        57.66             2.92"
      ]
     },
     "execution_count": 43,
     "metadata": {},
     "output_type": "execute_result"
    }
   ],
   "source": [
    "df"
   ]
  },
  {
   "cell_type": "code",
   "execution_count": 36,
   "metadata": {},
   "outputs": [
    {
     "data": {
      "text/plain": [
       "0.031358051810051454"
      ]
     },
     "execution_count": 36,
     "metadata": {},
     "output_type": "execute_result"
    }
   ],
   "source": [
    "np.std(acc)"
   ]
  },
  {
   "cell_type": "code",
   "execution_count": null,
   "metadata": {},
   "outputs": [],
   "source": []
  }
 ],
 "metadata": {
  "kernelspec": {
   "display_name": "cplae_met",
   "language": "python",
   "name": "python3"
  },
  "language_info": {
   "codemirror_mode": {
    "name": "ipython",
    "version": 3
   },
   "file_extension": ".py",
   "mimetype": "text/x-python",
   "name": "python",
   "nbconvert_exporter": "python",
   "pygments_lexer": "ipython3",
   "version": "3.8.13"
  },
  "orig_nbformat": 4
 },
 "nbformat": 4,
 "nbformat_minor": 2
}
