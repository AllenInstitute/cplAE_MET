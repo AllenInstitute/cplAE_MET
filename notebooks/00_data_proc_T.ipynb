{
 "cells": [
  {
   "cell_type": "code",
   "execution_count": 1,
   "metadata": {},
   "outputs": [],
   "source": [
    "import feather\n",
    "import numpy as np\n",
    "import pandas as pd\n",
    "from collections import Counter\n",
    "from cplAE_MET.utils.load_config import load_config"
   ]
  },
  {
   "cell_type": "code",
   "execution_count": 2,
   "metadata": {},
   "outputs": [],
   "source": [
    "# set the config file name and beta_threshold for gene selection\n",
    "config_file = 'config_preproc.toml'\n",
    "beta_threshold = 0.4"
   ]
  },
  {
   "cell_type": "code",
   "execution_count": 3,
   "metadata": {},
   "outputs": [],
   "source": [
    "# function to set the input and output path\n",
    "def set_paths(config_file=None):\n",
    "    paths, _ = load_config(config_file=config_file, verbose=False)\n",
    "\n",
    "    paths['input'] = f'{str(paths[\"data_dir\"])}'\n",
    "    paths['specimen_ids'] = f'{paths[\"input\"]}/{str(paths[\"specimen_ids_file\"])}'\n",
    "    paths['gene_file'] = f'{paths[\"input\"]}/{str(paths[\"gene_file\"])}'\n",
    "\n",
    "    paths['t_anno'] = f'{paths[\"input\"]}/{\"anno.feather\"}'\n",
    "    paths['t_data'] = f'{paths[\"input\"]}/{\"data.feather\"}'\n",
    "    paths['t_data_output'] = f'{paths[\"input\"]}/{str(paths[\"t_data_output_file\"])}'\n",
    "    paths['t_anno_output'] = f'{paths[\"input\"]}/{str(paths[\"t_anno_output_file\"])}'\n",
    "    paths['gene_id_output'] = f'{paths[\"input\"]}/{str(paths[\"gene_id_output_file\"])}'\n",
    "\n",
    "    return paths"
   ]
  },
  {
   "cell_type": "code",
   "execution_count": 4,
   "metadata": {},
   "outputs": [],
   "source": [
    "# set the path based on the config_file\n",
    "dir_pth = set_paths(config_file=config_file)\n",
    "gene_file_path = dir_pth['gene_file']"
   ]
  },
  {
   "cell_type": "code",
   "execution_count": 5,
   "metadata": {},
   "outputs": [
    {
     "name": "stdout",
     "output_type": "stream",
     "text": [
      "...................................................\n",
      "Loading input files\n"
     ]
    }
   ],
   "source": [
    "# Load the t anno and data file. Anno file has all the metadata for each patchseq cell\n",
    "# and data file has all the cpm values for each patchseq cell\n",
    "print(\"...................................................\")\n",
    "print(\"Loading input files\")\n",
    "T_dat = feather.read_dataframe(dir_pth['t_data'])\n",
    "T_ann = feather.read_dataframe(dir_pth['t_anno'])"
   ]
  },
  {
   "cell_type": "code",
   "execution_count": 6,
   "metadata": {},
   "outputs": [
    {
     "name": "stdout",
     "output_type": "stream",
     "text": [
      "...................................................\n",
      "There are 16703 sample_ids in the locked dataset\n"
     ]
    }
   ],
   "source": [
    "# Read all the specimen ids of all the cells from patchseq, ME, EM and fmost platforms\n",
    "ids = pd.read_csv(dir_pth['specimen_ids'])\n",
    "ids['specimen_id'] = ids['specimen_id'].astype(str)\n",
    "T_ann['spec_id_label'] = T_ann['spec_id_label'].astype(str)\n",
    "t_cells = [i for i in ids['specimen_id'].to_list() if i in T_ann['spec_id_label'].to_list()]\n",
    "specimen_ids = ids['specimen_id'].tolist()\n",
    "specimen_ids = [str(i) for i in specimen_ids]\n",
    "not_t_cells = [i for i in specimen_ids if i not in t_cells]\n",
    "print(\"...................................................\")\n",
    "print(\"There are\", len(specimen_ids), \"sample_ids in the locked dataset\")"
   ]
  },
  {
   "cell_type": "code",
   "execution_count": 7,
   "metadata": {},
   "outputs": [],
   "source": [
    "# Read some important matadata from the anno file\n",
    "# Tree_first_cl_id/label/color are the assigned ttype id, label and color for each patchseq cell\n",
    "# Tree_call_label is the mapping quality of the cell, we are going to remove the Poor quality\n",
    "# patchseq cells based on this. \n",
    "T_ann['spec_id_label'] = T_ann['spec_id_label'].astype(np.int64)\n",
    "T_ann = T_ann.rename(columns={\"spec_id_label\": \"specimen_id\"})\n",
    "df_spec_id = pd.DataFrame(specimen_ids, columns=[\"specimen_id\"])\n",
    "df_spec_id['specimen_id'] = df_spec_id['specimen_id'].astype(str)\n",
    "T_ann['specimen_id'] = T_ann['specimen_id'].astype(str)\n",
    "T_ann = T_ann.merge(df_spec_id, on=\"specimen_id\", how='right')\n",
    "T_ann = T_ann[['specimen_id',\n",
    "                'sample_id',\n",
    "                'Tree_first_cl_id',\n",
    "                'Tree_first_cl_label',\n",
    "                'Tree_first_cl_color',\n",
    "                'Tree_call_label']].reset_index(drop=True)"
   ]
  },
  {
   "cell_type": "code",
   "execution_count": 8,
   "metadata": {},
   "outputs": [
    {
     "name": "stdout",
     "output_type": "stream",
     "text": [
      "There are 5140 highly consistent cells\n",
      "There are 1412 Moderately consistent cells\n",
      "There are 62 Inconsistent cells\n"
     ]
    }
   ],
   "source": [
    "# Removing all the poor quality cells. Highly consistent, Moderately consistent \n",
    "# cells will be kept.\n",
    "counts = Counter(T_ann['Tree_call_label'])\n",
    "print(\"There are\", counts['Core'] + counts['I1'], \"highly consistent cells\")\n",
    "print(\"There are\", counts['I2'] + counts['I3'], \"Moderately consistent cells\")\n",
    "print(\"There are\", counts['PoorQ'], \"Inconsistent cells\")\n",
    "poorQ = T_ann[T_ann['Tree_call_label']==\"PoorQ\"]['specimen_id'].to_list()\n",
    "t_cells = [i for i in t_cells if i not in poorQ]\n",
    "not_t_cells = not_t_cells + poorQ"
   ]
  },
  {
   "cell_type": "code",
   "execution_count": 9,
   "metadata": {},
   "outputs": [],
   "source": [
    "# We will keep only genes that their beta score is more than some threshold\n",
    "keep_gene_id = pd.read_csv(gene_file_path)\n",
    "keep_gene_id = keep_gene_id[keep_gene_id.BetaScore>beta_threshold]['Gene'].to_list()"
   ]
  },
  {
   "cell_type": "code",
   "execution_count": 10,
   "metadata": {},
   "outputs": [],
   "source": [
    "#Restrict T data based on genes:\n",
    "keepcols = ['sample_id'] + keep_gene_id\n",
    "T_dat = T_dat[keepcols]"
   ]
  },
  {
   "cell_type": "code",
   "execution_count": 11,
   "metadata": {},
   "outputs": [
    {
     "name": "stdout",
     "output_type": "stream",
     "text": [
      "...................................................\n",
      "Keep data and annotation for given sample_ids\n",
      "...................................................\n",
      "set the cpm values for non tcells to nan\n"
     ]
    }
   ],
   "source": [
    "print(\"...................................................\")\n",
    "print(\"Keep data and annotation for given sample_ids\")\n",
    "#Restrict to samples in the annotation dataframe\n",
    "T_dat = T_dat.merge(T_ann[['sample_id', 'specimen_id']], on=\"sample_id\", how='right')\n",
    "T_dat = T_dat.drop(labels=[\"sample_id\"], axis=1)\n",
    "T_dat = T_dat.set_index(\"specimen_id\")\n",
    "T_dat = T_dat.reset_index()\n",
    "print(\"...................................................\")\n",
    "print(\"set the cpm values for non tcells to nan\")\n",
    "T_dat = T_dat.set_index(\"specimen_id\")\n",
    "T_ann = T_ann.set_index(\"specimen_id\")\n",
    "T_dat.loc[not_t_cells] = np.nan\n",
    "T_ann.loc[not_t_cells] = np.nan"
   ]
  },
  {
   "cell_type": "code",
   "execution_count": 12,
   "metadata": {},
   "outputs": [
    {
     "name": "stdout",
     "output_type": "stream",
     "text": [
      "...................................................\n",
      "Apply log2 to cpm values for t_cells only\n"
     ]
    }
   ],
   "source": [
    "print(\"...................................................\")\n",
    "print(\"Apply log2 to cpm values for t_cells only\")\n",
    "T_dat[keep_gene_id] = np.log(T_dat[keep_gene_id]+1)"
   ]
  },
  {
   "cell_type": "code",
   "execution_count": 13,
   "metadata": {},
   "outputs": [],
   "source": [
    "assert (T_dat.index.to_list() == specimen_ids), \\\n",
    "    'Order of data samples and id list is different!'\n",
    "\n",
    "assert (T_ann.index.to_list() == specimen_ids), \\\n",
    "    'Order of annotation id list is different!'"
   ]
  },
  {
   "cell_type": "code",
   "execution_count": 14,
   "metadata": {},
   "outputs": [
    {
     "name": "stdout",
     "output_type": "stream",
     "text": [
      "annotation file size: (16703, 6)\n",
      "logcpm file size: (16703, 1253)\n"
     ]
    }
   ],
   "source": [
    "T_dat = T_dat.reset_index()\n",
    "T_ann = T_ann.reset_index()\n",
    "print(\"annotation file size:\", T_ann.shape)\n",
    "print(\"logcpm file size:\", T_dat.shape)"
   ]
  },
  {
   "cell_type": "code",
   "execution_count": 15,
   "metadata": {},
   "outputs": [],
   "source": [
    "keep_gene_id = pd.DataFrame(keep_gene_id, columns=[\"gene_id\"])\n",
    "keep_gene_id.to_csv(dir_pth['gene_id_output'], index=False)"
   ]
  }
 ],
 "metadata": {
  "kernelspec": {
   "display_name": "cplae_met",
   "language": "python",
   "name": "python3"
  },
  "language_info": {
   "codemirror_mode": {
    "name": "ipython",
    "version": 3
   },
   "file_extension": ".py",
   "mimetype": "text/x-python",
   "name": "python",
   "nbconvert_exporter": "python",
   "pygments_lexer": "ipython3",
   "version": "3.8.13"
  },
  "orig_nbformat": 4
 },
 "nbformat": 4,
 "nbformat_minor": 2
}
