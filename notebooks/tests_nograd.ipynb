{
 "cells": [
  {
   "cell_type": "code",
   "execution_count": 1,
   "metadata": {},
   "outputs": [],
   "source": [
    "import numpy as np\n",
    "from torch import nn\n",
    "import torch\n",
    "\n",
    "\n",
    "class NET(nn.Module):\n",
    "    def __init__(self, out_dim=11):\n",
    "        super(NET, self).__init__()\n",
    "        self.fc = nn.Linear(2, 2, bias=False)\n",
    "        self.fc.weight = torch.nn.parameter.Parameter(\n",
    "            torch.tensor(np.array([[1,2],[3,4]])).float())\n",
    "        return\n",
    "\n",
    "    def print(self):\n",
    "        print('weights')\n",
    "        print(self.fc.weight)\n",
    "        print('\\ngrads')\n",
    "        print(self.fc.weight.grad)\n",
    "\n",
    "    def forward(self, x, nograd=False):\n",
    "        x = self.fc(x)\n",
    "        if nograd:\n",
    "            with torch.no_grad():\n",
    "                y = self.fc(x**2)\n",
    "        else:\n",
    "            y = self.fc(x**2)\n",
    "        return x, y\n"
   ]
  },
  {
   "cell_type": "code",
   "execution_count": 2,
   "metadata": {},
   "outputs": [],
   "source": [
    "batch = torch.tensor(np.round(np.random.rand(4,2),2)).float()"
   ]
  },
  {
   "cell_type": "code",
   "execution_count": 3,
   "metadata": {},
   "outputs": [
    {
     "name": "stdout",
     "output_type": "stream",
     "text": [
      "weights\n",
      "Parameter containing:\n",
      "tensor([[1., 2.],\n",
      "        [3., 4.]], requires_grad=True)\n",
      "\n",
      "grads\n",
      "tensor([[31.4116, 48.5452],\n",
      "        [31.4116, 48.5452]])\n"
     ]
    }
   ],
   "source": [
    "# case 1: This is the base case. Only gradients from the computation with x = self.fc(x) should show up.\n",
    "net1 = NET()\n",
    "xr, yr = net1(batch, nograd=True)\n",
    "loss = torch.sum(batch - xr)**2 + torch.sum(batch - yr)**2\n",
    "loss.backward()\n",
    "net1.print()"
   ]
  },
  {
   "cell_type": "code",
   "execution_count": 4,
   "metadata": {},
   "outputs": [
    {
     "name": "stdout",
     "output_type": "stream",
     "text": [
      "weights\n",
      "Parameter containing:\n",
      "tensor([[1., 2.],\n",
      "        [3., 4.]], requires_grad=True)\n",
      "\n",
      "grads\n",
      "tensor([[31.4116, 48.5452],\n",
      "        [31.4116, 48.5452]])\n"
     ]
    }
   ],
   "source": [
    "# case 2: Compare with base case. Because the calculation is performed with no_grad(), the yr calculation does not affect the gradient.\n",
    "net2 = NET()\n",
    "xr, yr = net2(batch, nograd=True)\n",
    "loss = torch.sum(batch - xr)**2\n",
    "loss.backward()\n",
    "net2.print()"
   ]
  },
  {
   "cell_type": "code",
   "execution_count": 5,
   "metadata": {},
   "outputs": [
    {
     "name": "stdout",
     "output_type": "stream",
     "text": [
      "weights\n",
      "Parameter containing:\n",
      "tensor([[1., 2.],\n",
      "        [3., 4.]], requires_grad=True)\n",
      "\n",
      "grads\n",
      "tensor([[10282.8691, 30702.7285],\n",
      "        [26194.2266, 57988.7422]])\n"
     ]
    }
   ],
   "source": [
    "# case 3: Here, no_grad is not used. Compared to case 1 and 2, the gradient accumulated comes from both xr and yr calculations.\n",
    "net3 = NET()\n",
    "xr, yr = net3(batch, nograd=False)\n",
    "loss = torch.sum(batch - xr)**2 + torch.sum(batch - yr)**2\n",
    "loss.backward()\n",
    "net3.print()"
   ]
  },
  {
   "cell_type": "code",
   "execution_count": 6,
   "metadata": {},
   "outputs": [
    {
     "name": "stdout",
     "output_type": "stream",
     "text": [
      "weights\n",
      "Parameter containing:\n",
      "tensor([[1., 2.],\n",
      "        [3., 4.]], requires_grad=True)\n",
      "\n",
      "grads\n",
      "tensor([[10251.4580, 30654.1836],\n",
      "        [26162.8145, 57940.1953]])\n"
     ]
    }
   ],
   "source": [
    "# case 4: I'm expecting gradient from yr calculation alone to explain the difference between cases 2 and 3:\n",
    "net4 = NET()\n",
    "xr, yr = net4(batch, nograd=False)\n",
    "loss = torch.sum(batch - yr)**2\n",
    "loss.backward()\n",
    "net4.print()"
   ]
  },
  {
   "cell_type": "code",
   "execution_count": 7,
   "metadata": {},
   "outputs": [
    {
     "data": {
      "text/plain": [
       "tensor([[True, True],\n",
       "        [True, True]])"
      ]
     },
     "execution_count": 7,
     "metadata": {},
     "output_type": "execute_result"
    }
   ],
   "source": [
    "net4.fc.weight.grad+net2.fc.weight.grad == net3.fc.weight.grad"
   ]
  }
 ],
 "metadata": {
  "kernelspec": {
   "display_name": "Python 3.8.0 ('cplae_met')",
   "language": "python",
   "name": "python3"
  },
  "language_info": {
   "codemirror_mode": {
    "name": "ipython",
    "version": 3
   },
   "file_extension": ".py",
   "mimetype": "text/x-python",
   "name": "python",
   "nbconvert_exporter": "python",
   "pygments_lexer": "ipython3",
   "version": "3.8.0"
  },
  "orig_nbformat": 4,
  "vscode": {
   "interpreter": {
    "hash": "9eadf17778d5143981a8a97fb2a6eb547b72cd99abcb4b2b10d89b852fee26ae"
   }
  }
 },
 "nbformat": 4,
 "nbformat_minor": 2
}
