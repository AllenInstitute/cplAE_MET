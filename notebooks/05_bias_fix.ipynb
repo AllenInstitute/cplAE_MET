{
 "cells": [
  {
   "cell_type": "markdown",
   "metadata": {},
   "source": [
    "**Notes**: \n",
    " - Model shows systematic shift along one of the axes (see SAC_plots.ipynb)\n",
    " - This notebook will check statistics of the inputs and look for bugs in the latent representation."
   ]
  },
  {
   "cell_type": "code",
   "execution_count": 1,
   "metadata": {},
   "outputs": [],
   "source": [
    "import numpy as np\n",
    "import pandas as pd\n",
    "import matplotlib.pyplot as plt\n",
    "import seaborn as sns\n",
    "import torch\n",
    "import anndata as ad"
   ]
  },
  {
   "cell_type": "code",
   "execution_count": 2,
   "metadata": {},
   "outputs": [],
   "source": [
    "import torch"
   ]
  },
  {
   "cell_type": "code",
   "execution_count": 13,
   "metadata": {},
   "outputs": [],
   "source": [
    "from cplAE_MET.utils.load_config import load_config\n",
    "from cplAE_MET.models.augmentations import get_padded_im, get_soma_aligned_im\n",
    "from cplAE_MET.utils.dataset import T_ME_Dataset, load_MET_dataset, partitions"
   ]
  },
  {
   "cell_type": "code",
   "execution_count": 14,
   "metadata": {},
   "outputs": [],
   "source": [
    "paths = load_config(config_file = 'config.toml', verbose=False)"
   ]
  },
  {
   "cell_type": "code",
   "execution_count": 21,
   "metadata": {},
   "outputs": [],
   "source": [
    "D = load_MET_dataset(paths['MET_data'])\n",
    "D['XM'] = np.expand_dims(D['XM'], axis=1)\n",
    "D['Xsd'] = np.expand_dims(D['Xsd'], axis=1)\n",
    "pad = 60\n",
    "norm2pixel_factor = 100\n",
    "padded_soma_coord = np.squeeze(D['Xsd'] * norm2pixel_factor + pad)\n",
    "D['XM'] = get_padded_im(im=D['XM'], pad=pad)\n",
    "D['XM'] = get_soma_aligned_im(im=D['XM'], soma_H=padded_soma_coord)"
   ]
  },
  {
   "cell_type": "code",
   "execution_count": 31,
   "metadata": {},
   "outputs": [
    {
     "data": {
      "text/html": [
       "<div>\n",
       "<style scoped>\n",
       "    .dataframe tbody tr th:only-of-type {\n",
       "        vertical-align: middle;\n",
       "    }\n",
       "\n",
       "    .dataframe tbody tr th {\n",
       "        vertical-align: top;\n",
       "    }\n",
       "\n",
       "    .dataframe thead th {\n",
       "        text-align: right;\n",
       "    }\n",
       "</style>\n",
       "<table border=\"1\" class=\"dataframe\">\n",
       "  <thead>\n",
       "    <tr style=\"text-align: right;\">\n",
       "      <th></th>\n",
       "      <th>cluster_label</th>\n",
       "      <th>cluster_id</th>\n",
       "      <th>cluster_color</th>\n",
       "    </tr>\n",
       "    <tr>\n",
       "      <th>specimen_id</th>\n",
       "      <th></th>\n",
       "      <th></th>\n",
       "      <th></th>\n",
       "    </tr>\n",
       "  </thead>\n",
       "  <tbody>\n",
       "    <tr>\n",
       "      <th>823231829</th>\n",
       "      <td>L2/3 IT VISp Rrad</td>\n",
       "      <td>2</td>\n",
       "      <td>#D9F077</td>\n",
       "    </tr>\n",
       "    <tr>\n",
       "      <th>893406540</th>\n",
       "      <td>L2/3 IT VISp Rrad</td>\n",
       "      <td>2</td>\n",
       "      <td>#D9F077</td>\n",
       "    </tr>\n",
       "    <tr>\n",
       "      <th>896877084</th>\n",
       "      <td>L2/3 IT VISp Rrad</td>\n",
       "      <td>2</td>\n",
       "      <td>#D9F077</td>\n",
       "    </tr>\n",
       "    <tr>\n",
       "      <th>912008949</th>\n",
       "      <td>L2/3 IT VISp Rrad</td>\n",
       "      <td>2</td>\n",
       "      <td>#D9F077</td>\n",
       "    </tr>\n",
       "    <tr>\n",
       "      <th>921685533</th>\n",
       "      <td>L2/3 IT VISp Rrad</td>\n",
       "      <td>2</td>\n",
       "      <td>#D9F077</td>\n",
       "    </tr>\n",
       "    <tr>\n",
       "      <th>...</th>\n",
       "      <td>...</td>\n",
       "      <td>...</td>\n",
       "      <td>...</td>\n",
       "    </tr>\n",
       "    <tr>\n",
       "      <th>912896324</th>\n",
       "      <td>nan</td>\n",
       "      <td>-9223372036854775808</td>\n",
       "      <td>nan</td>\n",
       "    </tr>\n",
       "    <tr>\n",
       "      <th>927889009</th>\n",
       "      <td>nan</td>\n",
       "      <td>-9223372036854775808</td>\n",
       "      <td>nan</td>\n",
       "    </tr>\n",
       "    <tr>\n",
       "      <th>601790961</th>\n",
       "      <td>nan</td>\n",
       "      <td>-9223372036854775808</td>\n",
       "      <td>nan</td>\n",
       "    </tr>\n",
       "    <tr>\n",
       "      <th>639818525</th>\n",
       "      <td>nan</td>\n",
       "      <td>-9223372036854775808</td>\n",
       "      <td>nan</td>\n",
       "    </tr>\n",
       "    <tr>\n",
       "      <th>648856696</th>\n",
       "      <td>nan</td>\n",
       "      <td>-9223372036854775808</td>\n",
       "      <td>nan</td>\n",
       "    </tr>\n",
       "  </tbody>\n",
       "</table>\n",
       "<p>6570 rows × 3 columns</p>\n",
       "</div>"
      ],
      "text/plain": [
       "                                cluster_label           cluster_id  \\\n",
       "specimen_id                                                          \n",
       "823231829    L2/3 IT VISp Rrad                                   2   \n",
       "893406540    L2/3 IT VISp Rrad                                   2   \n",
       "896877084    L2/3 IT VISp Rrad                                   2   \n",
       "912008949    L2/3 IT VISp Rrad                                   2   \n",
       "921685533    L2/3 IT VISp Rrad                                   2   \n",
       "...                                       ...                  ...   \n",
       "912896324    nan                              -9223372036854775808   \n",
       "927889009    nan                              -9223372036854775808   \n",
       "601790961    nan                              -9223372036854775808   \n",
       "639818525    nan                              -9223372036854775808   \n",
       "648856696    nan                              -9223372036854775808   \n",
       "\n",
       "                                cluster_color  \n",
       "specimen_id                                    \n",
       "823231829    #D9F077                           \n",
       "893406540    #D9F077                           \n",
       "896877084    #D9F077                           \n",
       "912008949    #D9F077                           \n",
       "921685533    #D9F077                           \n",
       "...                                       ...  \n",
       "912896324    nan                               \n",
       "927889009    nan                               \n",
       "601790961    nan                               \n",
       "639818525    nan                               \n",
       "648856696    nan                               \n",
       "\n",
       "[6570 rows x 3 columns]"
      ]
     },
     "execution_count": 31,
     "metadata": {},
     "output_type": "execute_result"
    }
   ],
   "source": [
    "obs = pd.DataFrame({'specimen_id':D['specimen_id'],'cluster_label':D['cluster_label'], 'cluster_id':D['cluster_id'], 'cluster_color':D['cluster_color']})\n",
    "obs.set_index('specimen_id') "
   ]
  },
  {
   "cell_type": "code",
   "execution_count": 28,
   "metadata": {},
   "outputs": [
    {
     "data": {
      "text/plain": [
       "array(['Lhx6         ', 'Gad2         ', 'Slc32a1      ', ...,\n",
       "       'Cmya5        ', 'Coro2a       ', 'Spsb4        '], dtype='<U13')"
      ]
     },
     "execution_count": 28,
     "metadata": {},
     "output_type": "execute_result"
    }
   ],
   "source": [
    "adata"
   ]
  },
  {
   "cell_type": "code",
   "execution_count": 23,
   "metadata": {},
   "outputs": [
    {
     "data": {
      "text/plain": [
       "(6570, 1252)"
      ]
     },
     "execution_count": 23,
     "metadata": {},
     "output_type": "execute_result"
    }
   ],
   "source": [
    "D['XT'].shape"
   ]
  },
  {
   "cell_type": "code",
   "execution_count": 25,
   "metadata": {},
   "outputs": [
    {
     "data": {
      "text/plain": [
       "(array([3755.,  120.,  141.,  205.,  264.,  515.,  753.,  582.,  157.,\n",
       "          18.]),\n",
       " array([0.        , 0.68194187, 1.36388375, 2.04582562, 2.72776749,\n",
       "        3.40970937, 4.09165124, 4.77359311, 5.45553499, 6.13747686,\n",
       "        6.81941873]),\n",
       " <BarContainer object of 10 artists>)"
      ]
     },
     "execution_count": 25,
     "metadata": {},
     "output_type": "execute_result"
    },
    {
     "data": {
      "image/png": "[encoded data removed]",
      "text/plain": [
       "<Figure size 432x288 with 1 Axes>"
      ]
     },
     "metadata": {
      "needs_background": "light"
     },
     "output_type": "display_data"
    }
   ],
   "source": [
    "plt.hist(D['XT'][:,0])"
   ]
  },
  {
   "cell_type": "code",
   "execution_count": 27,
   "metadata": {},
   "outputs": [],
   "source": []
  },
  {
   "cell_type": "code",
   "execution_count": 33,
   "metadata": {},
   "outputs": [],
   "source": [
    "adata = ad.AnnData(X=np.empty_like(D['XT']),dtype=np.empty_like(D['XT']).dtype, obs=obs,layers={'log1pcpm':D['XT']})"
   ]
  },
  {
   "cell_type": "code",
   "execution_count": 34,
   "metadata": {},
   "outputs": [
    {
     "data": {
      "text/plain": [
       "AnnData object with n_obs × n_vars = 6570 × 1252\n",
       "    obs: 'specimen_id', 'cluster_label', 'cluster_id', 'cluster_color'\n",
       "    layers: 'log1pcpm'"
      ]
     },
     "execution_count": 34,
     "metadata": {},
     "output_type": "execute_result"
    }
   ],
   "source": []
  },
  {
   "cell_type": "code",
   "execution_count": null,
   "metadata": {},
   "outputs": [],
   "source": []
  }
 ],
 "metadata": {
  "interpreter": {
   "hash": "9eadf17778d5143981a8a97fb2a6eb547b72cd99abcb4b2b10d89b852fee26ae"
  },
  "kernelspec": {
   "display_name": "Python 3.8.0 ('cplae_met')",
   "language": "python",
   "name": "python3"
  },
  "language_info": {
   "codemirror_mode": {
    "name": "ipython",
    "version": 3
   },
   "file_extension": ".py",
   "mimetype": "text/x-python",
   "name": "python",
   "nbconvert_exporter": "python",
   "pygments_lexer": "ipython3",
   "version": "3.8.0"
  },
  "orig_nbformat": 4
 },
 "nbformat": 4,
 "nbformat_minor": 2
}
