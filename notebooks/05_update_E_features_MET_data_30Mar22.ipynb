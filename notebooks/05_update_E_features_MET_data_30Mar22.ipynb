{
 "cells": [
  {
   "cell_type": "code",
   "execution_count": 1,
   "metadata": {},
   "outputs": [],
   "source": [
    "import numpy as np\n",
    "import pandas as pd\n",
    "import scipy.io as sio\n",
    "\n",
    "from cplAE_MET.utils.load_config import load_config\n",
    "from cplAE_MET.utils.dataset import load_MET_dataset\n",
    "\n",
    "path = '/home/rohan/Remote-AI-root/allen/programs/celltypes/workgroups/rnaseqanalysis/Fahimehb/git_workspace/cplAE_MET/data/proc/'\n",
    "data = sio.loadmat(path+'MET_data_30Mar22.mat',squeeze_me=True)\n",
    "df = pd.read_csv(path+'E_data_30Mar22.csv')\n",
    "e_features = df.columns[1:].values\n",
    "data['E_features'] = e_features"
   ]
  },
  {
   "cell_type": "code",
   "execution_count": 2,
   "metadata": {},
   "outputs": [],
   "source": [
    "data = {k:data[k] for k in ['T_dat', 'E_dat', 'M_dat', 'soma_depth', 'gene_ids', 'E_features', 'specimen_id', 'cluster_id', 'cluster_color', 'cluster_label']}\n",
    "sio.savemat('../data/proc/MET_data_30Mar22_updated.mat',data)"
   ]
  },
  {
   "cell_type": "code",
   "execution_count": 3,
   "metadata": {},
   "outputs": [
    {
     "data": {
      "text/plain": [
       "dict_keys(['XT', 'XE', 'XM', 'Xsd', 'cluster_label', 'cluster_id', 'cluster_color', 'specimen_id', 'gene_ids', 'E_features'])"
      ]
     },
     "execution_count": 3,
     "metadata": {},
     "output_type": "execute_result"
    }
   ],
   "source": [
    "# Note: MET_data in config.toml should point to the updated file.\n",
    "paths = load_config('config.toml')\n",
    "D = load_MET_dataset(paths['MET_data'])\n",
    "D.keys()"
   ]
  }
 ],
 "metadata": {
  "interpreter": {
   "hash": "9eadf17778d5143981a8a97fb2a6eb547b72cd99abcb4b2b10d89b852fee26ae"
  },
  "kernelspec": {
   "display_name": "Python 3.8.0 ('cplae_met')",
   "language": "python",
   "name": "python3"
  },
  "language_info": {
   "codemirror_mode": {
    "name": "ipython",
    "version": 3
   },
   "file_extension": ".py",
   "mimetype": "text/x-python",
   "name": "python",
   "nbconvert_exporter": "python",
   "pygments_lexer": "ipython3",
   "version": "3.8.0"
  },
  "orig_nbformat": 4
 },
 "nbformat": 4,
 "nbformat_minor": 2
}
