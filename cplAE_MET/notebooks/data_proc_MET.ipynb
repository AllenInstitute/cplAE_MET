{
 "cells": [
  {
   "cell_type": "code",
   "execution_count": 1,
   "metadata": {},
   "outputs": [],
   "source": [
    "import pandas as pd\n",
    "from functools import reduce\n",
    "import numpy as np\n",
    "import matplotlib.pyplot as plt\n",
    "import scipy.io as sio\n",
    "from cplAE_MET.preproc.data_proc_MET import set_paths\n",
    "\n",
    "# This is used to be able to run the notebook both remote and locally\n",
    "Allen_dir = \"/allen/programs/celltypes/workgroups/rnaseqanalysis/Fahimehb/git_workspace/cplAE_MET/data/\"\n",
    "remote_dir = \"/Users/fahimehb/Documents/git-workspace/cplAE_MET/data/\""
   ]
  },
  {
   "cell_type": "code",
   "execution_count": 2,
   "metadata": {},
   "outputs": [],
   "source": [
    "pth = set_paths(config_file=\"config_preproc.toml\")"
   ]
  },
  {
   "cell_type": "markdown",
   "metadata": {},
   "source": [
    "### Reading T, E and M data to be combined togther in a mat file"
   ]
  },
  {
   "cell_type": "code",
   "execution_count": 3,
   "metadata": {},
   "outputs": [
    {
     "name": "stdout",
     "output_type": "stream",
     "text": [
      "...................................................\n",
      "Loading specimens\n",
      "Loading E, T and M data\n",
      "shape of E data: (6570, 133)\n",
      "shape of T data: (6570, 1253)\n",
      "shape of hist_ax_de_api_bas data: (6570, 120, 4, 4)\n",
      "Loading T annotations\n"
     ]
    }
   ],
   "source": [
    "print(\"...................................................\")\n",
    "print(\"Loading specimens\")\n",
    "cells = pd.read_csv(pth['specimen_ids'])\n",
    "print(\"Loading E, T and M data\")\n",
    "E_data = pd.read_csv(pth['e_input'])\n",
    "print(\"shape of E data:\", E_data.shape)\n",
    "T_data = pd.read_csv(pth['t_input'])\n",
    "print(\"shape of T data:\", T_data.shape)\n",
    "M_dat = sio.loadmat(pth['m_input'])\n",
    "print(\"shape of hist_ax_de_api_bas data:\", M_dat['hist_ax_de_api_bas'].shape)\n",
    "gene_id = pd.read_csv(pth['gene_id_input'])\n",
    "print(\"Loading T annotations\")\n",
    "T_ann = pd.read_csv(pth['anno'])"
   ]
  },
  {
   "cell_type": "markdown",
   "metadata": {},
   "source": [
    "### Aligning T, E and M data"
   ]
  },
  {
   "cell_type": "code",
   "execution_count": 4,
   "metadata": {},
   "outputs": [
    {
     "name": "stdout",
     "output_type": "stream",
     "text": [
      "...................................................\n",
      "read specimen ids from m data and align other with that\n",
      "...................................................\n",
      "Combining M, E and T data and metadata\n"
     ]
    }
   ],
   "source": [
    "print(\"...................................................\")\n",
    "print(\"read specimen ids from m data and align other with that\")\n",
    "m_anno = pd.DataFrame({\"specimen_id\": M_dat['specimen_id'][0], \"soma_depth\": M_dat[\"soma_depth\"][0]})\n",
    "\n",
    "print(\"...................................................\")\n",
    "print(\"Combining M, E and T data and metadata\")\n",
    "result = reduce(lambda left, right: pd.merge(left, right, on=['specimen_id'], how='left'), [m_anno, E_data])\n",
    "result = reduce(lambda left, right: pd.merge(left, right, on=['specimen_id'], how='left'), [result, T_data])\n",
    "result = reduce(lambda left, right: pd.merge(left, right, on=['specimen_id'], how='left'), [result, cells])\n",
    "result = reduce(lambda left, right: pd.merge(left, right, on=['specimen_id'], how='left'), [result, T_ann])\n"
   ]
  },
  {
   "cell_type": "markdown",
   "metadata": {},
   "source": [
    "### Combining all the data in a mat file"
   ]
  },
  {
   "cell_type": "code",
   "execution_count": 5,
   "metadata": {},
   "outputs": [
    {
     "name": "stdout",
     "output_type": "stream",
     "text": [
      "...................................................\n",
      "Writing the output mat\n",
      "Size of M data: (6570, 120, 4, 4)\n",
      "Size of M data: (6570,)\n",
      "Size of E data: (6570, 132)\n",
      "Size of T data: (6570, 1252)\n",
      "saving!\n"
     ]
    }
   ],
   "source": [
    "print(\"...................................................\")\n",
    "print(\"Writing the output mat\")\n",
    "\n",
    "#writing M, E and T data\n",
    "model_input_mat = {}\n",
    "model_input_mat[\"E_dat\"] = np.array(result[[c for c in E_data.columns if c != \"specimen_id\"]])\n",
    "model_input_mat[\"T_dat\"] = np.array(result[[c for c in T_data.columns if c != \"specimen_id\"]])\n",
    "model_input_mat[\"M_dat\"] = np.array(M_dat[\"hist_ax_de_api_bas\"])\n",
    "model_input_mat[\"soma_depth\"] = np.array(result[\"soma_depth\"])\n",
    "model_input_mat[\"gene_ids\"] = gene_id[\"gene_id\"].to_list()\n",
    "\n",
    "\n",
    "#writing the sample_ids and the masks and some meta data\n",
    "model_input_mat[\"specimen_id\"] = result.specimen_id.to_list()\n",
    "model_input_mat[\"cluster_id\"] = result.Tree_first_cl_id.to_list()\n",
    "model_input_mat[\"cluster_color\"] = result.Tree_first_cl_color.to_list()\n",
    "model_input_mat[\"cluster_label\"] = result.Tree_first_cl_label.to_list()\n",
    "\n",
    "\n",
    "#Saving input mat\n",
    "print(\"Size of M data:\", model_input_mat['M_dat'].shape)\n",
    "print(\"Size of M data:\", model_input_mat[\"soma_depth\"].shape)\n",
    "print(\"Size of E data:\", model_input_mat[\"E_dat\"].shape)\n",
    "print(\"Size of T data:\", model_input_mat[\"T_dat\"].shape)\n",
    "print(\"saving!\")"
   ]
  },
  {
   "cell_type": "markdown",
   "metadata": {},
   "source": []
  }
 ],
 "metadata": {
  "interpreter": {
   "hash": "f3e76d29312eeed35f95dba05381d320de56b16156c489fe643d86e7d8e35046"
  },
  "kernelspec": {
   "display_name": "Python 3.9.7 ('cplmet')",
   "language": "python",
   "name": "python3"
  },
  "language_info": {
   "codemirror_mode": {
    "name": "ipython",
    "version": 3
   },
   "file_extension": ".py",
   "mimetype": "text/x-python",
   "name": "python",
   "nbconvert_exporter": "python",
   "pygments_lexer": "ipython3",
   "version": "3.9.7"
  },
  "orig_nbformat": 4
 },
 "nbformat": 4,
 "nbformat_minor": 2
}
